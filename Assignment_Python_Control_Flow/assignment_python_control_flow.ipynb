{
 "cells": [
  {
   "cell_type": "markdown",
   "metadata": {},
   "source": [
    "## Basic If-Else Statements:\n",
    "\n",
    "1. Write a Python program to check if a given number is positive or negative.\n",
    "\n",
    "2. Create a program that determines if a person is eligible to vote based on their age.\n",
    "\n",
    "3. Develop a program to find the maximum of two numbers using if-else statements.\n",
    "\n",
    "4. Write a Python script to classify a given year as a leap year or not.\n",
    "\n",
    "5. Create a program that checks whether a character is a vowel or a consonant.\n",
    "\n",
    "6. Implement a program to determine whether a given number is even or odd.\n",
    "\n",
    "7. Write a Python function to calculate the absolute value of a number without using the `abs()` function.\n",
    "\n",
    "8. Develop a program that determines the largest of three given numbers using if-else statements.\n",
    "\n",
    "9. Create a program that checks if a given string is a palindrome.\n",
    "\n",
    "10. Write a Python program to calculate the grade based on a student's score.\n"
   ]
  },
  {
   "cell_type": "code",
   "execution_count": null,
   "metadata": {},
   "outputs": [],
   "source": []
  },
  {
   "cell_type": "code",
   "execution_count": null,
   "metadata": {},
   "outputs": [],
   "source": []
  },
  {
   "cell_type": "code",
   "execution_count": null,
   "metadata": {},
   "outputs": [],
   "source": []
  },
  {
   "cell_type": "code",
   "execution_count": null,
   "metadata": {},
   "outputs": [],
   "source": []
  },
  {
   "cell_type": "code",
   "execution_count": null,
   "metadata": {},
   "outputs": [],
   "source": []
  },
  {
   "cell_type": "code",
   "execution_count": null,
   "metadata": {},
   "outputs": [],
   "source": []
  },
  {
   "cell_type": "code",
   "execution_count": null,
   "metadata": {},
   "outputs": [],
   "source": []
  },
  {
   "cell_type": "code",
   "execution_count": null,
   "metadata": {},
   "outputs": [],
   "source": []
  },
  {
   "cell_type": "code",
   "execution_count": null,
   "metadata": {},
   "outputs": [],
   "source": []
  },
  {
   "cell_type": "code",
   "execution_count": null,
   "metadata": {},
   "outputs": [],
   "source": []
  },
  {
   "cell_type": "markdown",
   "metadata": {},
   "source": [
    "## Nested If-Else Statements:\n",
    "\n",
    "11. Write a program to find the largest among three numbers using nested if-else statements.\n",
    "\n",
    "12. Implement a program to determine if a triangle is equilateral, isosceles, or scalene.\n",
    "\n",
    "13. Develop a program that checks if a year is a leap year and also if it is a century year.\n",
    "\n",
    "14. Write a Python script to determine if a number is positive, negative, or zero.\n",
    "\n",
    "15. Create a program to check if a person is a teenager (between 13 and 19 years old).\n",
    "\n",
    "16. Develop a program that determines the type of angle based on its measure (acute, obtuse, or right).\n",
    "\n",
    "17. Write a Python program to calculate the roots of a quadratic equation.\n",
    "\n",
    "18. Implement a program to determine the day of the week based on a user-provided number (1 for Monday, 2\n",
    "for Tuesday, etc.).\n",
    "\n",
    "19. Create a program that determines if a year is a leap year and also if it is evenly divisible by 400.\n",
    "\n",
    "20. Develop a program that checks if a given number is prime or not using nested if-else statements.\n",
    "\n"
   ]
  },
  {
   "cell_type": "code",
   "execution_count": null,
   "metadata": {},
   "outputs": [],
   "source": []
  },
  {
   "cell_type": "code",
   "execution_count": null,
   "metadata": {},
   "outputs": [],
   "source": []
  },
  {
   "cell_type": "code",
   "execution_count": null,
   "metadata": {},
   "outputs": [],
   "source": []
  },
  {
   "cell_type": "code",
   "execution_count": null,
   "metadata": {},
   "outputs": [],
   "source": []
  },
  {
   "cell_type": "code",
   "execution_count": null,
   "metadata": {},
   "outputs": [],
   "source": []
  },
  {
   "cell_type": "code",
   "execution_count": null,
   "metadata": {},
   "outputs": [],
   "source": []
  },
  {
   "cell_type": "code",
   "execution_count": null,
   "metadata": {},
   "outputs": [],
   "source": []
  },
  {
   "cell_type": "code",
   "execution_count": null,
   "metadata": {},
   "outputs": [],
   "source": []
  },
  {
   "cell_type": "code",
   "execution_count": null,
   "metadata": {},
   "outputs": [],
   "source": []
  },
  {
   "cell_type": "code",
   "execution_count": null,
   "metadata": {},
   "outputs": [],
   "source": []
  },
  {
   "cell_type": "markdown",
   "metadata": {},
   "source": [
    "## Elif Statements:\n",
    "21. Write a Python program to assign grades based on different ranges of scores using elif statements.\n",
    "22. Implement a program to determine the type of a triangle based on its angles.\n",
    "23. Develop a program to categorize a given person's BMI into underweight, normal, overweight, or obese using\n",
    "elif statements.\n",
    "24. Create a program that determines whether a given number is positive, negative, or zero using elif\n",
    "statements.\n",
    "25. Write a Python script to determine the type of a character (uppercase, lowercase, or special) using elif\n",
    "statements.\n",
    "26. Implement a program to calculate the discounted price based on different purchase amounts using elif\n",
    "statements.\n",
    "27. Develop a program to calculate the electricity bill based on different consumption slabs using elif\n",
    "statements.\n",
    "28. Create a program to determine the type of quadrilateral based on its angles and sides using elif\n",
    "statements.\n",
    "29. Write a Python script to determine the season based on a user-provided month using elif statements.\n",
    "30. Implement a program to determine the type of a year (leap or common) and month (30 or 31 days) using\n",
    "elif statements."
   ]
  },
  {
   "cell_type": "code",
   "execution_count": null,
   "metadata": {},
   "outputs": [],
   "source": []
  },
  {
   "cell_type": "code",
   "execution_count": null,
   "metadata": {},
   "outputs": [],
   "source": []
  },
  {
   "cell_type": "code",
   "execution_count": null,
   "metadata": {},
   "outputs": [],
   "source": []
  },
  {
   "cell_type": "code",
   "execution_count": null,
   "metadata": {},
   "outputs": [],
   "source": []
  },
  {
   "cell_type": "code",
   "execution_count": null,
   "metadata": {},
   "outputs": [],
   "source": []
  },
  {
   "cell_type": "code",
   "execution_count": null,
   "metadata": {},
   "outputs": [],
   "source": []
  },
  {
   "cell_type": "code",
   "execution_count": null,
   "metadata": {},
   "outputs": [],
   "source": []
  },
  {
   "cell_type": "code",
   "execution_count": null,
   "metadata": {},
   "outputs": [],
   "source": []
  },
  {
   "cell_type": "code",
   "execution_count": null,
   "metadata": {},
   "outputs": [],
   "source": []
  },
  {
   "cell_type": "code",
   "execution_count": null,
   "metadata": {},
   "outputs": [],
   "source": []
  },
  {
   "cell_type": "markdown",
   "metadata": {},
   "source": [
    "## Basic Level:\n",
    "\n",
    "1. Write a Python program that checks if a given number is positive, negative, or zero.\n",
    "\n",
    "2. Create a program to determine if a person is eligible to vote based on their age.\n",
    "\n",
    "3. Write a program to find the maximum of two given numbers using conditional statements.\n",
    "\n",
    "4. Develop a program that calculates the grade of a student based on their exam score.\n",
    "\n",
    "5. Create a program that checks if a year is a leap year or not.\n",
    "\n",
    "6. Write a program to classify a triangle based on its sides' lengths.\n",
    "\n",
    "7. Build a program that determines the largest of three given numbers.\n",
    "\n",
    "8. Develop a program that checks whether a character is a vowel or a consonant.\n",
    "\n",
    "9. Create a program to calculate the total cost of a shopping cart based on discounts.\n",
    "\n",
    "10. Write a program that checks if a given number is even or odd.\n"
   ]
  },
  {
   "cell_type": "code",
   "execution_count": null,
   "metadata": {},
   "outputs": [],
   "source": []
  },
  {
   "cell_type": "code",
   "execution_count": null,
   "metadata": {},
   "outputs": [],
   "source": []
  },
  {
   "cell_type": "code",
   "execution_count": null,
   "metadata": {},
   "outputs": [],
   "source": []
  },
  {
   "cell_type": "code",
   "execution_count": null,
   "metadata": {},
   "outputs": [],
   "source": []
  },
  {
   "cell_type": "code",
   "execution_count": null,
   "metadata": {},
   "outputs": [],
   "source": []
  },
  {
   "cell_type": "code",
   "execution_count": null,
   "metadata": {},
   "outputs": [],
   "source": []
  },
  {
   "cell_type": "code",
   "execution_count": null,
   "metadata": {},
   "outputs": [],
   "source": []
  },
  {
   "cell_type": "code",
   "execution_count": null,
   "metadata": {},
   "outputs": [],
   "source": []
  },
  {
   "cell_type": "code",
   "execution_count": null,
   "metadata": {},
   "outputs": [],
   "source": []
  },
  {
   "cell_type": "code",
   "execution_count": null,
   "metadata": {},
   "outputs": [],
   "source": []
  },
  {
   "cell_type": "markdown",
   "metadata": {},
   "source": [
    "### Intermediate Level:\n",
    "\n",
    "11. Write a program that calculates the roots of a quadratic equation .\n",
    "\n",
    "12. Create a program that determines the day of the week based on the day number (1-7).\n",
    "\n",
    "13. Develop a program that calculates the factorial of a given number using recursion.\n",
    "\n",
    "14. Write a program to find the largest among three numbers without using the `max()` function.\n",
    "\n",
    "15. Create a program that simulates a basic ATM transaction menu.\n",
    "\n",
    "16. Build a program that checks if a given string is a palindrome or not.\n",
    "\n",
    "17. Write a program that calculates the average of a list of numbers, excluding the smallest and largest values.\n",
    "\n",
    "18. Develop a program that converts a given temperature from Celsius to Fahrenheit.\n",
    "\n",
    "19. Create a program that simulates a basic calculator for addition, subtraction, multiplication, and division.\n",
    "\n",
    "20. Write a program that determines the roots of a cubic equation using the Cardano formula.\n"
   ]
  },
  {
   "cell_type": "code",
   "execution_count": null,
   "metadata": {},
   "outputs": [],
   "source": []
  },
  {
   "cell_type": "code",
   "execution_count": null,
   "metadata": {},
   "outputs": [],
   "source": []
  },
  {
   "cell_type": "code",
   "execution_count": null,
   "metadata": {},
   "outputs": [],
   "source": []
  },
  {
   "cell_type": "code",
   "execution_count": null,
   "metadata": {},
   "outputs": [],
   "source": []
  },
  {
   "cell_type": "code",
   "execution_count": null,
   "metadata": {},
   "outputs": [],
   "source": []
  },
  {
   "cell_type": "code",
   "execution_count": null,
   "metadata": {},
   "outputs": [],
   "source": []
  },
  {
   "cell_type": "code",
   "execution_count": null,
   "metadata": {},
   "outputs": [],
   "source": []
  },
  {
   "cell_type": "code",
   "execution_count": null,
   "metadata": {},
   "outputs": [],
   "source": []
  },
  {
   "cell_type": "markdown",
   "metadata": {},
   "source": [
    "## Advanced Level:\n",
    "\n",
    "21. Create a program that calculates the income tax based on the user's income and tax brackets.\n",
    "\n",
    "22. Write a program that simulates a rock-paper-scissors game against the computer.\n",
    "\n",
    "23. Develop a program that generates a random password based on user preferences (length, complexity).\n",
    "\n",
    "24. Create a program that implements a simple text-based adventure game with branching scenarios.\n",
    "\n",
    "25. Build a program that solves a linear equation for x, considering different cases.\n",
    "\n",
    "26. Write a program that simulates a basic quiz game with multiple-choice questions and scoring.\n",
    "\n",
    "27. Develop a program that determines whether a given year is a prime number or not.\n",
    "\n",
    "28. Create a program that sorts three numbers in ascending order using conditional statements.\n",
    "\n",
    "29. Build a program that determines the roots of a quartic equation using numerical methods.\n",
    "\n",
    "30. Write a program that calculates the BMI (Body Mass Index) and provides health recommendations based\n",
    "on the user's input.\n",
    "\n",
    "Challenge Level:\n"
   ]
  },
  {
   "cell_type": "code",
   "execution_count": null,
   "metadata": {},
   "outputs": [],
   "source": []
  },
  {
   "cell_type": "code",
   "execution_count": null,
   "metadata": {},
   "outputs": [],
   "source": []
  },
  {
   "cell_type": "code",
   "execution_count": null,
   "metadata": {},
   "outputs": [],
   "source": []
  },
  {
   "cell_type": "code",
   "execution_count": null,
   "metadata": {},
   "outputs": [],
   "source": []
  },
  {
   "cell_type": "code",
   "execution_count": null,
   "metadata": {},
   "outputs": [],
   "source": []
  },
  {
   "cell_type": "code",
   "execution_count": null,
   "metadata": {},
   "outputs": [],
   "source": []
  },
  {
   "cell_type": "code",
   "execution_count": null,
   "metadata": {},
   "outputs": [],
   "source": []
  },
  {
   "cell_type": "code",
   "execution_count": null,
   "metadata": {},
   "outputs": [],
   "source": []
  },
  {
   "cell_type": "code",
   "execution_count": null,
   "metadata": {},
   "outputs": [],
   "source": []
  },
  {
   "cell_type": "code",
   "execution_count": null,
   "metadata": {},
   "outputs": [],
   "source": []
  },
  {
   "cell_type": "markdown",
   "metadata": {},
   "source": [
    "### Challenge Level:\n",
    "\n",
    "31. Create a program that validates a password based on complexity rules (length, characters, etc.).\n",
    "\n",
    "32. Develop a program that performs matrix addition and subtraction based on user input.\n",
    "\n",
    "33. Write a program that calculates the greatest common divisor (GCD) of two numbers using the Euclidean\n",
    "algorithm.\n",
    "\n",
    "34. Build a program that performs matrix multiplication using nested loops and conditional statements.\n",
    "\n",
    "35. Create a program that simulates a basic text-based tic-tac-toe game against the computer.\n",
    "\n",
    "36. Write a program that generates Fibonacci numbers up to a specified term using iterative methods.\n",
    "\n",
    "37. Develop a program that calculates the nth term of the Fibonacci sequence using memoization.\n",
    "\n",
    "38. Create a program that generates a calendar for a given month and year using conditional statements.\n",
    "\n",
    "39. Build a program that simulates a basic text-based blackjack game against the computer.\n",
    "\n",
    "40. Write a program that generates the prime factors of a given number using trial division.\n",
    "\n"
   ]
  }
 ],
 "metadata": {
  "language_info": {
   "name": "python"
  }
 },
 "nbformat": 4,
 "nbformat_minor": 2
}
