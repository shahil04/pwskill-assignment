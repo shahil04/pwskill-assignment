{
  "cells": [
    {
      "cell_type": "markdown",
      "metadata": {
        "id": "lgbBv9ueXE8y"
      },
      "source": [
        "# Machine learning\n",
        "## Numpy Assignment"
      ]
    },
    {
      "cell_type": "markdown",
      "metadata": {
        "id": "DtG3xeNbXPRX"
      },
      "source": [
        "1. What is a Python library? Why do we use Python libraries?\n",
        "\n"
      ]
    },
    {
      "cell_type": "markdown",
      "metadata": {
        "id": "lFZgEhxyXiv9"
      },
      "source": [
        "### write answer here\n",
        "A Python library is a collection of pre-written code and functions that extend the capabilities of Python programming language. Libraries provide reusable modules and functions that developers can easily incorporate into their Python code to perform specific tasks without having to write the code from scratch.\n",
        "\n",
        "- use for\n",
        "- code reusability\n",
        "- efficiency\n",
        "- modular code maintability\n",
        "- more focus on domain-specifice problem\n",
        "- community-contributions"
      ]
    },
    {
      "cell_type": "markdown",
      "metadata": {
        "id": "B7LU0LlZXaDf"
      },
      "source": [
        "\n",
        "2. What is the difference between Numpy array and List?\n"
      ]
    },
    {
      "cell_type": "markdown",
      "metadata": {
        "id": "sTR0uCfXXDUJ"
      },
      "source": [
        "###### write answer here\n",
        "NumPy arrays and Python lists are both data structures used to store collections of elements, but they have several differences in terms of functionality, performance, and usage.\n",
        "\n",
        "1. **Memory Efficiency:**\n",
        "   - NumPy arrays store elements of the same data type in contiguous memory, providing better memory efficiency.\n",
        "   - Python lists can store elements of different data types, leading to less efficient memory usage.\n",
        "\n",
        "2. **Performance:**\n",
        "   - NumPy arrays are optimized for numerical operations and perform faster than Python lists, especially with large datasets.\n",
        "   - NumPy operations are implemented in C, providing better performance compared to Python lists.\n",
        "\n",
        "3. **Functionality:**\n",
        "   - NumPy arrays offer extensive mathematical functions and operations for array manipulation, while Python lists are more versatile for general-purpose programming.\n",
        "\n",
        "4. **Ease of Use:**\n",
        "   - NumPy arrays have concise syntax for mathematical operations, and Python lists are more user-friendly for general programming tasks.\n",
        "\n",
        "5. **Type Stability:**\n",
        "   - NumPy arrays have a fixed data type for all elements, ensuring type stability and efficient computation.\n",
        "   - Python lists can store elements of different data types, potentially leading to type coercion and slower performance.\n",
        "\n",
        "In summary, NumPy arrays excel in numerical computations, providing memory efficiency and performance, while Python lists are more versatile for general-purpose programming. The choice depends on the specific needs of the task."
      ]
    },
    {
      "cell_type": "markdown",
      "metadata": {
        "id": "deOO-sqGXTN9"
      },
      "source": [
        "3. Find the shape, size and dimension of the following array?\n",
        "\n",
        "[[1, 2, 3, 4]\n",
        "\n",
        "[5, 6, 7, 8],\n",
        "\n",
        "[9, 10, 11, 12]]\n",
        "\n"
      ]
    },
    {
      "cell_type": "code",
      "execution_count": 19,
      "metadata": {
        "id": "WJKegs4NXqQY"
      },
      "outputs": [
        {
          "name": "stdout",
          "output_type": "stream",
          "text": [
            "<class 'list'>\n",
            " shape of arr (3, 4) 3\n",
            " size of arr 12\n",
            " Dimension of arr 2\n"
          ]
        }
      ],
      "source": [
        "# shape\n",
        "import numpy as np\n",
        "arr = [\n",
        "    [1, 2, 3, 4],\n",
        "    [5, 6, 7, 8],\n",
        "    [9, 10, 11, 12]\n",
        "    ]\n",
        "#initial type of arr\n",
        "print(type(arr))\n",
        "\n",
        "# convert arr in numpy arr\n",
        "np_arr = np.array(arr)\n",
        "\n",
        "#find the shape the array\n",
        "shape = np_arr.shape\n",
        "\n",
        "# find the size of array\n",
        "size = np_arr.size \n",
        "\n",
        "# find the dimension of array\n",
        "dim = np_arr.ndim\n",
        "\n",
        "#print all\n",
        "\n",
        "print(f\" shape of arr {shape} \")\n",
        "\n",
        "print(f\" size of arr {size}\")\n",
        "\n",
        "print(f\" Dimension of arr {dim}\")"
      ]
    },
    {
      "cell_type": "markdown",
      "metadata": {
        "id": "irs-hSyKXrBu"
      },
      "source": [
        "\n",
        "4. Write python code to access the first row of the following array?\n",
        "\n",
        "[[1, 2, 3, 4]\n",
        "\n",
        "[5, 6, 7, 8],\n",
        "\n",
        "[9, 10, 11, 12]]\n",
        "\n"
      ]
    },
    {
      "cell_type": "code",
      "execution_count": 12,
      "metadata": {
        "id": "A176cv9nXsdj"
      },
      "outputs": [
        {
          "name": "stdout",
          "output_type": "stream",
          "text": [
            "access using list [1, 2, 3, 4]\n",
            "access using numpy [1 2 3 4]\n"
          ]
        }
      ],
      "source": [
        "arr = [\n",
        "    [1, 2, 3, 4],\n",
        "    [5, 6, 7, 8],\n",
        "    [9, 10, 11, 12]\n",
        "    ]\n",
        "\n",
        "# access first arr using list \n",
        "print(f\"access using list {arr[0]}\")\n",
        "\n",
        "# using numpy\n",
        "arr = np.array(arr)\n",
        "\n",
        "print(f'access using numpy {arr[0]}')"
      ]
    },
    {
      "cell_type": "markdown",
      "metadata": {
        "id": "UZzFT1uDXtcu"
      },
      "source": [
        "\n",
        "5. How do you access the element at the third row and fourth column from the given numpy array?\n",
        "\n",
        "[[1, 2, 3, 4]\n",
        "\n",
        "[5, 6, 7, 8],\n",
        "\n",
        "[9, 10, 11, 12]]"
      ]
    },
    {
      "cell_type": "code",
      "execution_count": 17,
      "metadata": {
        "id": "tjbPbTVpXuZW"
      },
      "outputs": [
        {
          "name": "stdout",
          "output_type": "stream",
          "text": [
            "access 3rd row and 4th column element 12\n"
          ]
        }
      ],
      "source": [
        "arr =[\n",
        "    [1, 2, 3, 4],\n",
        "    [5, 6, 7, 8],\n",
        "    [9, 10, 11, 12]\n",
        "    ]\n",
        "np_arr = np.array(arr)\n",
        "\n",
        "# access 3rd row and 4th column element is 12\n",
        "print(f'access 3rd row and 4th column element is {np_arr[2][3]}')"
      ]
    },
    {
      "cell_type": "markdown",
      "metadata": {},
      "source": [
        "6. Write code to extract all odd-indexed elements from the given numpy array?\n",
        "\n",
        "[[1, 2, 3, 4]\n",
        "\n",
        "[5, 6, 7, 8],\n",
        "\n",
        "[9, 10, 11, 12]]\n"
      ]
    },
    {
      "cell_type": "code",
      "execution_count": 22,
      "metadata": {},
      "outputs": [
        {
          "name": "stdout",
          "output_type": "stream",
          "text": [
            "2 4 \n",
            "6 8 \n",
            "10 12 \n"
          ]
        }
      ],
      "source": [
        "arr = np_arr\n",
        "\n",
        "for row in range(0,arr.shape[0]):\n",
        "    for col in range(0,arr.shape[1]):\n",
        "        if col%2 !=0:\n",
        "            print(arr[row][col],end=\" \")\n",
        "    print(\"\")"
      ]
    },
    {
      "cell_type": "markdown",
      "metadata": {},
      "source": [
        "7. How can you generate a random 3x3 matrix with values between 0 and 1?\n",
        "\n",
        "\n"
      ]
    },
    {
      "cell_type": "code",
      "execution_count": 27,
      "metadata": {},
      "outputs": [
        {
          "name": "stdout",
          "output_type": "stream",
          "text": [
            "[[0. 0. 0.]\n",
            " [0. 0. 0.]\n",
            " [0. 0. 0.]]\n",
            "0.4\n",
            "[[0.3 0.4 0.7]\n",
            " [0.7 0.7 0.7]\n",
            " [0.6 0.2 0.4]]\n"
          ]
        }
      ],
      "source": [
        "import random\n",
        "\n",
        "matrix = np.zeros((3,3))\n",
        "print(matrix)\n",
        "\n",
        "print(round(random.random(),1))\n",
        "\n",
        "\n",
        "for row in range(3):\n",
        "    for col in range(3):\n",
        "        num =  round(random.random(),1)\n",
        "        matrix[row][col] = num\n",
        "\n",
        "print(matrix)"
      ]
    },
    {
      "cell_type": "markdown",
      "metadata": {},
      "source": [
        "8. Describe the difference between np.random.rand and np.random.randn?"
      ]
    },
    {
      "cell_type": "code",
      "execution_count": 31,
      "metadata": {},
      "outputs": [
        {
          "name": "stdout",
          "output_type": "stream",
          "text": [
            "0.32271090779888123\n",
            "-1.6409048567843656\n"
          ]
        }
      ],
      "source": [
        "print(np.random.rand()) # np.random.rand give the range between 0 to 1.\n",
        "print((np.random.randn())) # np.random.rand give the value which follow the normal distribution function mean =0 ,std=1"
      ]
    },
    {
      "cell_type": "markdown",
      "metadata": {},
      "source": [
        "9. Write code to increase the dimension of the following array?\n",
        "\n",
        "[[1, 2, 3, 4]\n",
        "\n",
        "[5, 6, 7, 8],\n",
        "\n",
        "[9, 10, 11, 12]]\n",
        "\n"
      ]
    },
    {
      "cell_type": "code",
      "execution_count": 33,
      "metadata": {},
      "outputs": [
        {
          "name": "stdout",
          "output_type": "stream",
          "text": [
            "[[[ 1]\n",
            "  [ 2]\n",
            "  [ 3]\n",
            "  [ 4]]\n",
            "\n",
            " [[ 5]\n",
            "  [ 6]\n",
            "  [ 7]\n",
            "  [ 8]]\n",
            "\n",
            " [[ 9]\n",
            "  [10]\n",
            "  [11]\n",
            "  [12]]]\n",
            "3\n"
          ]
        }
      ],
      "source": [
        "original_array = np.array([[1, 2, 3, 4], [5, 6, 7, 8], [9, 10, 11, 12]])\n",
        "\n",
        "# Using np.newaxis\n",
        "new_array = original_array[:, :, np.newaxis]\n",
        "# OR using np.expand_dims\n",
        "new_array = np.expand_dims(original_array, axis=2)\n",
        "\n",
        "print(new_array)\n",
        "print(new_array.ndim)\n"
      ]
    },
    {
      "cell_type": "markdown",
      "metadata": {},
      "source": [
        "\n",
        "10. How to transpose the following array in NumPy?\n",
        "\n",
        "[[1, 2, 3, 4]\n",
        "\n",
        "[5, 6, 7, 8],\n",
        "\n",
        "[9, 10, 11, 12]]\n"
      ]
    },
    {
      "cell_type": "code",
      "execution_count": 34,
      "metadata": {},
      "outputs": [
        {
          "name": "stdout",
          "output_type": "stream",
          "text": [
            "[[ 1  5  9]\n",
            " [ 2  6 10]\n",
            " [ 3  7 11]\n",
            " [ 4  8 12]]\n"
          ]
        }
      ],
      "source": [
        "original_array = np.array([[1, 2, 3, 4], [5, 6, 7, 8], [9, 10, 11, 12]])\n",
        "\n",
        "transposed_array = original_array.T\n",
        "# OR ?\n",
        "transposed_array = np.transpose(original_array)\n",
        "\n",
        "print(transposed_array)\n"
      ]
    },
    {
      "cell_type": "markdown",
      "metadata": {},
      "source": [
        "\n",
        "\n",
        "11. Consider the following matrix:\n",
        "\n",
        "Matrix A2 [[1, 2, 3, 4] [5, 6, 7, 8],[9, 10, 11, 12]]\n",
        "\n",
        "Matrix B2 [[1, 2, 3, 4] [5, 6, 7, 8],[9, 10, 11, 12]]\n",
        "\n",
        "\n",
        "Perform the following operation using Python1\n",
        "- index wise multiplication\n",
        "- Matix multiplication\n",
        "- Add both the matics\n",
        "- Subtact matrix A and B\n",
        "- Divide Matrix B by A\n",
        "\n",
        "\n"
      ]
    },
    {
      "cell_type": "code",
      "execution_count": 35,
      "metadata": {},
      "outputs": [
        {
          "name": "stdout",
          "output_type": "stream",
          "text": [
            "Index-wise multiplication:\n",
            " [[  1   4   9  16]\n",
            " [ 25  36  49  64]\n",
            " [ 81 100 121 144]]\n",
            "Matrix multiplication:\n",
            " [[ 30  70 110]\n",
            " [ 70 174 278]\n",
            " [110 278 446]]\n",
            "Matrix addition:\n",
            " [[ 2  4  6  8]\n",
            " [10 12 14 16]\n",
            " [18 20 22 24]]\n",
            "Matrix subtraction:\n",
            " [[0 0 0 0]\n",
            " [0 0 0 0]\n",
            " [0 0 0 0]]\n",
            "Matrix division:\n",
            " [[1. 1. 1. 1.]\n",
            " [1. 1. 1. 1.]\n",
            " [1. 1. 1. 1.]]\n"
          ]
        }
      ],
      "source": [
        "import numpy as np\n",
        "\n",
        "# Define matrices A and B\n",
        "matrix_A = np.array([[1, 2, 3, 4], [5, 6, 7, 8], [9, 10, 11, 12]])\n",
        "matrix_B = np.array([[1, 2, 3, 4], [5, 6, 7, 8], [9, 10, 11, 12]])\n",
        "\n",
        "# Index-wise multiplication\n",
        "index_wise_multiplication = matrix_A * matrix_B\n",
        "\n",
        "# Matrix multiplication\n",
        "matrix_multiplication = np.dot(matrix_A, matrix_B.T)\n",
        "\n",
        "# Addition\n",
        "matrix_addition = matrix_A + matrix_B\n",
        "\n",
        "# Subtraction\n",
        "matrix_subtraction = matrix_A - matrix_B\n",
        "\n",
        "# Division (element-wise)\n",
        "matrix_division = matrix_B / matrix_A\n",
        "\n",
        "print(\"Index-wise multiplication:\\n\", index_wise_multiplication)\n",
        "print(\"Matrix multiplication:\\n\", matrix_multiplication)\n",
        "print(\"Matrix addition:\\n\", matrix_addition)\n",
        "print(\"Matrix subtraction:\\n\", matrix_subtraction)\n",
        "print(\"Matrix division:\\n\", matrix_division)\n"
      ]
    },
    {
      "cell_type": "markdown",
      "metadata": {},
      "source": [
        "12.  Which function in Numpy can be used to swap the byte order of an array?\n",
        "\n"
      ]
    },
    {
      "cell_type": "code",
      "execution_count": 37,
      "metadata": {},
      "outputs": [
        {
          "name": "stdout",
          "output_type": "stream",
          "text": [
            "[16777216 33554432 50331648 67108864]\n"
          ]
        }
      ],
      "source": [
        "import numpy as np\n",
        "\n",
        "arr = np.array([1, 2, 3, 4], dtype=np.int32)\n",
        "swapped_arr = arr.byteswap()\n",
        "print(swapped_arr)"
      ]
    },
    {
      "cell_type": "markdown",
      "metadata": {},
      "source": [
        "13.  What is the significance of the np.linalg.inv function?\n",
        "\n"
      ]
    },
    {
      "cell_type": "markdown",
      "metadata": {},
      "source": [
        "The np.linalg.inv function in NumPy is used to compute the inverse of a matrix. \n",
        "The inverse of a matrix A, denoted as A^-1, is such that A * A^-1 = A^-1 * A = I, where I is the identity matrix."
      ]
    },
    {
      "cell_type": "code",
      "execution_count": 38,
      "metadata": {},
      "outputs": [
        {
          "name": "stdout",
          "output_type": "stream",
          "text": [
            "Original Matrix A:\n",
            " [[2 1]\n",
            " [7 4]]\n",
            "Inverse of Matrix A:\n",
            " [[ 4. -1.]\n",
            " [-7.  2.]]\n",
            "Product of A and its Inverse (should be an identity matrix):\n",
            " [[1. 0.]\n",
            " [0. 1.]]\n"
          ]
        }
      ],
      "source": [
        "import numpy as np\n",
        "\n",
        "# Create a square matrix\n",
        "matrix_A = np.array([[2, 1], [7, 4]])\n",
        "\n",
        "# Compute the inverse of the matrix\n",
        "inverse_A = np.linalg.inv(matrix_A)\n",
        "\n",
        "# Print the original matrix and its inverse\n",
        "print(\"Original Matrix A:\\n\", matrix_A)\n",
        "print(\"Inverse of Matrix A:\\n\", inverse_A)\n",
        "\n",
        "# Verify that the product of A and A_inv is the identity matrix\n",
        "identity_matrix = np.dot(matrix_A, inverse_A)\n",
        "print(\"Product of A and its Inverse (should be an identity matrix):\\n\", identity_matrix)\n"
      ]
    },
    {
      "cell_type": "markdown",
      "metadata": {},
      "source": [
        "14. What does the np.reshape function do, and how is it used?\n"
      ]
    },
    {
      "cell_type": "code",
      "execution_count": 40,
      "metadata": {},
      "outputs": [
        {
          "name": "stdout",
          "output_type": "stream",
          "text": [
            "[[1 2]\n",
            " [3 4]\n",
            " [5 6]]\n"
          ]
        }
      ],
      "source": [
        "# change the shape of an array without changing its data.\n",
        "\n",
        "\n",
        "arr = np.array([[1, 2, 3], [4, 5, 6]])\n",
        "reshaped_arr = np.reshape(arr, (3, 2))\n",
        "print(reshaped_arr)"
      ]
    },
    {
      "cell_type": "markdown",
      "metadata": {},
      "source": [
        "\n",
        "15. What is broadcasting in Numpy"
      ]
    },
    {
      "cell_type": "markdown",
      "metadata": {},
      "source": [
        "Broadcasting in NumPy refers to the ability of NumPy to perform operations on arrays of different shapes and sizes. It allows you to perform element-wise operations between arrays of different shapes without explicitly reshaping them. NumPy automatically broadcasts the smaller array to match the shape of the larger one. This makes it easier to perform operations on arrays of different dimensions without the need for explicit looping."
      ]
    },
    {
      "cell_type": "code",
      "execution_count": 41,
      "metadata": {},
      "outputs": [
        {
          "name": "stdout",
          "output_type": "stream",
          "text": [
            "Original Matrix A:\n",
            " [[1 2 3]\n",
            " [4 5 6]\n",
            " [7 8 9]]\n",
            "1D Array for Broadcasting:\n",
            " [10 20 30]\n",
            "Result after Broadcasting:\n",
            " [[11 22 33]\n",
            " [14 25 36]\n",
            " [17 28 39]]\n"
          ]
        }
      ],
      "source": [
        "\n",
        "# Create a 3x3 matrix\n",
        "matrix_A = np.array([[1, 2, 3], [4, 5, 6], [7, 8, 9]])\n",
        "\n",
        "# Create a 1D array to be added to each column of the matrix\n",
        "column_addition = np.array([10, 20, 30])\n",
        "\n",
        "# Use broadcasting to add the 1D array to each column of the matrix\n",
        "result = matrix_A + column_addition\n",
        "\n",
        "# Print the original matrix, the 1D array, and the result\n",
        "print(\"Original Matrix A:\\n\", matrix_A)\n",
        "print(\"1D Array for Broadcasting:\\n\", column_addition)\n",
        "print(\"Result after Broadcasting:\\n\", result)\n"
      ]
    },
    {
      "cell_type": "code",
      "execution_count": null,
      "metadata": {},
      "outputs": [],
      "source": []
    }
  ],
  "metadata": {
    "colab": {
      "provenance": []
    },
    "kernelspec": {
      "display_name": "Python 3",
      "name": "python3"
    },
    "language_info": {
      "codemirror_mode": {
        "name": "ipython",
        "version": 3
      },
      "file_extension": ".py",
      "mimetype": "text/x-python",
      "name": "python",
      "nbconvert_exporter": "python",
      "pygments_lexer": "ipython3",
      "version": "3.11.5"
    }
  },
  "nbformat": 4,
  "nbformat_minor": 0
}
