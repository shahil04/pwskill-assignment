{
 "cells": [
  {
   "cell_type": "markdown",
   "id": "26333187-ea42-4cdf-b996-9ea91c93d949",
   "metadata": {},
   "source": [
    "# Assignment\n",
    "### TOPIC: Python Basics Variable\n"
   ]
  },
  {
   "cell_type": "markdown",
   "id": "cbc7046e",
   "metadata": {},
   "source": [
    "### TOPIC: String Based Questions\n",
    "1. Write a Python program that takes a string as input and prints the length of the string.\n"
   ]
  },
  {
   "cell_type": "code",
   "execution_count": null,
   "id": "79955bae-18f9-4244-92e7-7e0492cfd34a",
   "metadata": {},
   "outputs": [],
   "source": []
  },
  {
   "cell_type": "markdown",
   "id": "e9cf8812-7967-46f9-bb55-b54bb41638f8",
   "metadata": {},
   "source": [
    "2. Create a program that takes a sentence from the user and counts the number of vowels (a, e, i, o, u) in the string."
   ]
  },
  {
   "cell_type": "code",
   "execution_count": null,
   "id": "f7e3e0bf-6be0-4575-a609-bf82710b6f43",
   "metadata": {},
   "outputs": [],
   "source": []
  },
  {
   "cell_type": "markdown",
   "id": "e36cf9e1-9188-42b8-8ef7-ed3e4993c58f",
   "metadata": {},
   "source": [
    "3. Given a string, reverse the order of characters using string slicing and print the reversed string."
   ]
  },
  {
   "cell_type": "code",
   "execution_count": null,
   "id": "9a457067-0ae4-4d6d-944d-1d6f5a64096d",
   "metadata": {},
   "outputs": [],
   "source": []
  },
  {
   "cell_type": "markdown",
   "id": "dab64050-34b2-480a-bbe3-fc2c473d0c9e",
   "metadata": {},
   "source": [
    "4. Write a program that takes a string as input and checks if it is a palindrome(reads the same forwards and backwards)."
   ]
  },
  {
   "cell_type": "code",
   "execution_count": null,
   "id": "3ff42654-dd53-49cc-a18c-ea61c822b816",
   "metadata": {},
   "outputs": [],
   "source": []
  },
  {
   "cell_type": "markdown",
   "id": "8235c69d-be24-4601-8b0d-87b157dc68ac",
   "metadata": {},
   "source": [
    "5. Create a program that takes a string as input and removes all the spaces from it. Print the modified string without spaces."
   ]
  },
  {
   "cell_type": "code",
   "execution_count": null,
   "id": "414dbab9-f529-48ff-bed1-70ce4428b237",
   "metadata": {},
   "outputs": [],
   "source": []
  },
  {
   "cell_type": "markdown",
   "id": "5074ac10",
   "metadata": {},
   "source": [
    "### Submission Guidelines:\n",
    "\n",
    "1. Answer all the questions in a single Jupyter Notebook file (.ipynb).\n",
    "2. Include necessary code, comments, and explanations to support your answers and implementation.\n",
    "3. Ensure the notebook runs without errors and is well-organized.\n",
    "4. Create a GitHub repository to host your assignment files.\n",
    "5. Rename the Jupyter Notebook file using the format \"date_month_topic.ipynb\"\n",
    "\n",
    "6. Place the Jupyter Notebook file in the repository.\n",
    "7. Commit and push any additional files or resources required to run your code (if applicable) to the repository.\n",
    "8. Ensure the repository is publicly accessible.\n",
    "9. Submit the link to your GitHub repository as the assignment submission."
   ]
  },
  {
   "cell_type": "code",
   "execution_count": null,
   "id": "fc04dbd4",
   "metadata": {},
   "outputs": [],
   "source": []
  }
 ],
 "metadata": {
  "kernelspec": {
   "display_name": "Python 3 (ipykernel)",
   "language": "python",
   "name": "python3"
  },
  "language_info": {
   "codemirror_mode": {
    "name": "ipython",
    "version": 3
   },
   "file_extension": ".py",
   "mimetype": "text/x-python",
   "name": "python",
   "nbconvert_exporter": "python",
   "pygments_lexer": "ipython3",
   "version": "3.10.8"
  }
 },
 "nbformat": 4,
 "nbformat_minor": 5
}
