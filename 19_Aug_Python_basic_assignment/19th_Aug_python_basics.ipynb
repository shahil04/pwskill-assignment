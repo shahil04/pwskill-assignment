{
 "cells": [
  {
   "cell_type": "markdown",
   "id": "26333187-ea42-4cdf-b996-9ea91c93d949",
   "metadata": {},
   "source": [
    "# Assignment\n",
    "### TOPIC: Python Basics Variable\n"
   ]
  },
  {
   "cell_type": "code",
   "execution_count": 5,
   "id": "946743a4-a69f-4c23-bc0d-1a03dd486663",
   "metadata": {},
   "outputs": [
    {
     "name": "stdout",
     "output_type": "stream",
     "text": [
      "3\n",
      "4\n"
     ]
    }
   ],
   "source": [
    "# 1. Declare two variables, `x` and `y`, and assign them integer values. Swap the\n",
    "# values of these variables without using any temporary variable.\n",
    "x = 4\n",
    "y = 3\n",
    "\n",
    "x = x+y\n",
    "y = x-y\n",
    "x = x-y\n",
    "\n",
    "print(x)\n",
    "print(y)"
   ]
  },
  {
   "cell_type": "code",
   "execution_count": null,
   "id": "cfbc5d43-a255-46a4-a011-a9febd6cd247",
   "metadata": {},
   "outputs": [],
   "source": []
  },
  {
   "cell_type": "code",
   "execution_count": 2,
   "id": "f6ca1539-94f0-4740-b668-bae3f19786f3",
   "metadata": {},
   "outputs": [
    {
     "name": "stdin",
     "output_type": "stream",
     "text": [
      "enter the length  5\n",
      "entere the width  3\n"
     ]
    },
    {
     "name": "stdout",
     "output_type": "stream",
     "text": [
      "Area of rectangle =  15.0\n"
     ]
    }
   ],
   "source": [
    "# 2. Create a program that calculates the area of a rectangle. Take the length and\n",
    "# width as inputs from the user and store them in variables. Calculate and display the area.\n",
    "\n",
    "def area_of_rectangle():\n",
    "    length = float(input(\"enter the length \"))\n",
    "    width  = float(input(\"entere the width \"))\n",
    "    print(\"Area of rectangle = \", str(length*width))\n",
    "    \n",
    "area_of_rectangle()"
   ]
  },
  {
   "cell_type": "code",
   "execution_count": 5,
   "id": "ac719f91-231e-4923-9772-207acca047ed",
   "metadata": {},
   "outputs": [
    {
     "name": "stdin",
     "output_type": "stream",
     "text": [
      "enter teh temprature in celcius 0\n"
     ]
    },
    {
     "name": "stdout",
     "output_type": "stream",
     "text": [
      "32.0\n"
     ]
    }
   ],
   "source": [
    "# 3. Write a Python program that converts temperatures from Celsius to\n",
    "# Fahrenheit. Take the temperature in Celsius as input, store it in a variable,\n",
    "# convert it to Fahrenheit, and display the result.\n",
    "\n",
    "def convert_celsius_to_fahrent():\n",
    "    celsius  = float(input(\"enter teh temprature in celcius\"))\n",
    "    fahrenheit = (celsius*9/5)+32\n",
    "    print(fahrenheit)\n",
    "    \n",
    "convert_celsius_to_fahrent()"
   ]
  },
  {
   "cell_type": "markdown",
   "id": "cbc7046e",
   "metadata": {},
   "source": [
    "### TOPIC: String Based Questions\n",
    "1. Write a Python program that takes a string as input and prints the length of the string.\n"
   ]
  },
  {
   "cell_type": "code",
   "execution_count": 12,
   "id": "79955bae-18f9-4244-92e7-7e0492cfd34a",
   "metadata": {},
   "outputs": [
    {
     "name": "stdin",
     "output_type": "stream",
     "text": [
      " enter the string  shahil \n"
     ]
    },
    {
     "name": "stdout",
     "output_type": "stream",
     "text": [
      "the length of shahil  string is --> 7\n"
     ]
    }
   ],
   "source": [
    "st =input(\" enter the string \")\n",
    "print(\"the length of \"+ st+\" string is --> \" +str(len(st)))"
   ]
  },
  {
   "cell_type": "markdown",
   "id": "e9cf8812-7967-46f9-bb55-b54bb41638f8",
   "metadata": {},
   "source": [
    "2. Create a program that takes a sentence from the user and counts the number of vowels (a, e, i, o, u) in the string."
   ]
  },
  {
   "cell_type": "code",
   "execution_count": 14,
   "id": "f7e3e0bf-6be0-4575-a609-bf82710b6f43",
   "metadata": {},
   "outputs": [
    {
     "name": "stdin",
     "output_type": "stream",
     "text": [
      "enter the sentences shahil\n"
     ]
    },
    {
     "name": "stdout",
     "output_type": "stream",
     "text": [
      "2\n"
     ]
    }
   ],
   "source": [
    "sentence = input ( \"enter the sentences\")\n",
    "count = 0\n",
    "for i in sentence:\n",
    "    if i in \"aeiouAEIOU\":\n",
    "        count = count + 1\n",
    "        \n",
    "\n",
    "print(count)"
   ]
  },
  {
   "cell_type": "markdown",
   "id": "e36cf9e1-9188-42b8-8ef7-ed3e4993c58f",
   "metadata": {},
   "source": [
    "3. Given a string, reverse the order of characters using string slicing and print the reversed string."
   ]
  },
  {
   "cell_type": "code",
   "execution_count": 15,
   "id": "9a457067-0ae4-4d6d-944d-1d6f5a64096d",
   "metadata": {},
   "outputs": [
    {
     "name": "stdout",
     "output_type": "stream",
     "text": [
      "lihahs\n"
     ]
    }
   ],
   "source": [
    "string = \"shahil\"\n",
    "print( string[::-1])"
   ]
  },
  {
   "cell_type": "markdown",
   "id": "dab64050-34b2-480a-bbe3-fc2c473d0c9e",
   "metadata": {},
   "source": [
    "4. Write a program that takes a string as input and checks if it is a palindrome(reads the same forwards and backwards)."
   ]
  },
  {
   "cell_type": "code",
   "execution_count": 20,
   "id": "3ff42654-dd53-49cc-a18c-ea61c822b816",
   "metadata": {},
   "outputs": [
    {
     "name": "stdin",
     "output_type": "stream",
     "text": [
      "enter the string shahh\n"
     ]
    },
    {
     "name": "stdout",
     "output_type": "stream",
     "text": [
      "shahh Not a palindrome\n"
     ]
    }
   ],
   "source": [
    "string = input(\"enter the string\")\n",
    "if(string == string[::-1]):\n",
    "    print(string, \"string is palindrome \")\n",
    "else:\n",
    "    print(string ,\"Not a palindrome\")"
   ]
  },
  {
   "cell_type": "markdown",
   "id": "8235c69d-be24-4601-8b0d-87b157dc68ac",
   "metadata": {},
   "source": [
    "5. Create a program that takes a string as input and removes all the spaces from it. Print the modified string without spaces."
   ]
  },
  {
   "cell_type": "code",
   "execution_count": 24,
   "id": "414dbab9-f529-48ff-bed1-70ce4428b237",
   "metadata": {},
   "outputs": [
    {
     "name": "stdin",
     "output_type": "stream",
     "text": [
      "enter the string  shah is a good boy\n"
     ]
    },
    {
     "name": "stdout",
     "output_type": "stream",
     "text": [
      "shahisagoodboy\n"
     ]
    }
   ],
   "source": [
    "string = input (\"enter the string \")\n",
    "print(string.replace(\" \", \"\"))"
   ]
  },
  {
   "cell_type": "markdown",
   "id": "5074ac10",
   "metadata": {},
   "source": [
    "### Submission Guidelines:\n",
    "\n",
    "1. Answer all the questions in a single Jupyter Notebook file (.ipynb).\n",
    "2. Include necessary code, comments, and explanations to support your answers and implementation.\n",
    "3. Ensure the notebook runs without errors and is well-organized.\n",
    "4. Create a GitHub repository to host your assignment files.\n",
    "5. Rename the Jupyter Notebook file using the format \"date_month_topic.ipynb\"\n",
    "\n",
    "6. Place the Jupyter Notebook file in the repository.\n",
    "7. Commit and push any additional files or resources required to run your code (if applicable) to the repository.\n",
    "8. Ensure the repository is publicly accessible.\n",
    "9. Submit the link to your GitHub repository as the assignment submission."
   ]
  },
  {
   "cell_type": "code",
   "execution_count": null,
   "id": "fc04dbd4",
   "metadata": {},
   "outputs": [],
   "source": []
  }
 ],
 "metadata": {
  "kernelspec": {
   "display_name": "Python 3 (ipykernel)",
   "language": "python",
   "name": "python3"
  },
  "language_info": {
   "codemirror_mode": {
    "name": "ipython",
    "version": 3
   },
   "file_extension": ".py",
   "mimetype": "text/x-python",
   "name": "python",
   "nbconvert_exporter": "python",
   "pygments_lexer": "ipython3",
   "version": "3.10.8"
  }
 },
 "nbformat": 4,
 "nbformat_minor": 5
}
