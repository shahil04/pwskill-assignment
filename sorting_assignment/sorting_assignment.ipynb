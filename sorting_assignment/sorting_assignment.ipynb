{
 "cells": [
  {
   "cell_type": "markdown",
   "metadata": {},
   "source": [
    "Problem 1.Given an array of n numbers, give an algorithm which gives the element appearing maximum\n",
    "number of times?"
   ]
  },
  {
   "cell_type": "code",
   "execution_count": 1,
   "metadata": {},
   "outputs": [
    {
     "data": {
      "text/plain": [
       "3"
      ]
     },
     "execution_count": 1,
     "metadata": {},
     "output_type": "execute_result"
    }
   ],
   "source": [
    "arr =[1,2,4,6,3,7,2,3,3,8]\n",
    "\n",
    "def maxFrequency(arr):\n",
    "    hash={}\n",
    "    for element in arr:\n",
    "        if element not in hash.keys():\n",
    "            hash[element]=1\n",
    "        else:\n",
    "            hash[element]+=1\n",
    "    \n",
    "    return max(list(hash.values()))\n",
    "\n",
    "maxFrequency(arr)"
   ]
  },
  {
   "cell_type": "markdown",
   "metadata": {},
   "source": [
    "Problem 2 : We are given a list of n-1 integers and these integers are in the range of 1 to n . There are no\n",
    "duplicates in the list. One of the integers is missing in the list. Give an algorithm to find that element Ex:\n",
    "[1,2,4,6,3,7,8] 5 is the missing num."
   ]
  },
  {
   "cell_type": "code",
   "execution_count": 18,
   "metadata": {},
   "outputs": [
    {
     "name": "stdout",
     "output_type": "stream",
     "text": [
      "[1, 2, 3, 4, 5, 6, 7]\n"
     ]
    },
    {
     "data": {
      "text/plain": [
       "8"
      ]
     },
     "execution_count": 18,
     "metadata": {},
     "output_type": "execute_result"
    }
   ],
   "source": [
    "def findMissing(arr):\n",
    "    length =len(arr)\n",
    "    for i in range(length):\n",
    "        for j in range(i+1,length):\n",
    "            if arr[i]>arr[j]:\n",
    "                temp=arr[i]\n",
    "                arr[i]=arr[j]\n",
    "                arr[j]=temp\n",
    "    print(arr)\n",
    "    for i in range(length-1):\n",
    "        if arr[i]+1 !=arr[i+1]:\n",
    "            return arr[i]+1\n",
    "    \n",
    "    return arr[-1]+1\n",
    "\n",
    "arr=[1,2,4,6,3,7,5]\n",
    "findMissing(arr)\n"
   ]
  },
  {
   "cell_type": "markdown",
   "metadata": {},
   "source": [
    "Problem 3 : Given an array of n positive numbers. All numbers occurs even number of times except 1 which\n",
    "occurs odd number of times. Find that number in O(n) time and O(1) space. Ex: [1,2,3,2,3,1,3]. 3 is repeats odd\n",
    "times."
   ]
  },
  {
   "cell_type": "code",
   "execution_count": 6,
   "metadata": {},
   "outputs": [
    {
     "data": {
      "text/plain": [
       "3"
      ]
     },
     "execution_count": 6,
     "metadata": {},
     "output_type": "execute_result"
    }
   ],
   "source": [
    "def odd_repeat_number(arr:list)-> int:\n",
    "    pair ={}\n",
    "    for i in arr:\n",
    "        if i not in pair.keys():\n",
    "            pair[i]=1\n",
    "        else:\n",
    "            pair[i]= pair[i]+1\n",
    "    for key ,count in pair.items():\n",
    "        if count %2 !=0:\n",
    "            return key\n",
    "    \n",
    "                    \n",
    "\n",
    "odd_repeat_number([1,2,3,2,3,1,3])"
   ]
  },
  {
   "cell_type": "markdown",
   "metadata": {},
   "source": [
    "Problem 4 : Given an array of n elements. Find two elements in the array such that their sum is equal to given\n",
    "element K."
   ]
  },
  {
   "cell_type": "code",
   "execution_count": 7,
   "metadata": {},
   "outputs": [
    {
     "data": {
      "text/plain": [
       "(2, 3)"
      ]
     },
     "execution_count": 7,
     "metadata": {},
     "output_type": "execute_result"
    }
   ],
   "source": [
    "arr=[2,3,4,5,6]\n",
    "k = 5\n",
    "def equal_sum_of_k(arr, k):\n",
    "    for i in range(0,len(arr)):\n",
    "        for j in range(1, len(arr)-1):\n",
    "            if arr[i]+arr[j]==k:\n",
    "                return arr[i],arr[j]\n",
    "equal_sum_of_k(arr, k)\n"
   ]
  },
  {
   "cell_type": "markdown",
   "metadata": {},
   "source": [
    "Problem 5 : Given an array of both positive and negative numbers, find two numbers such that their sum is\n",
    "closest to 0. Ex: [ 1 ,60 ,-10, 70, -80,85]. Ans : -80,85."
   ]
  },
  {
   "cell_type": "code",
   "execution_count": 9,
   "metadata": {},
   "outputs": [
    {
     "data": {
      "text/plain": [
       "(70, -10)"
      ]
     },
     "execution_count": 9,
     "metadata": {},
     "output_type": "execute_result"
    }
   ],
   "source": [
    "arr=[ 1 ,60 ,-10, 70, 80,85]\n",
    "\n",
    "def sum_closest_to_zero(arr):\n",
    "    minimum_sum = abs(arr[1] + arr[0])\n",
    "    val1, val2 = arr[0],arr[1]\n",
    "    for i in range(0,len(arr)):\n",
    "        for j in range(2,len(arr)-1):\n",
    "            if arr[i]+arr[j]<=minimum_sum:\n",
    "                val1 = arr[i]\n",
    "                val2 = arr[j]\n",
    "\n",
    "    return val1 , val2\n",
    "\n",
    "sum_closest_to_zero(arr)\n",
    "\n",
    "            \n"
   ]
  },
  {
   "cell_type": "markdown",
   "metadata": {},
   "source": [
    "Problem 6 : Given an array of n elements . Find three elements such that their sum is equal to the given\n",
    "number.\n",
    "\n",
    "\n",
    "\n"
   ]
  },
  {
   "cell_type": "code",
   "execution_count": 14,
   "metadata": {},
   "outputs": [
    {
     "data": {
      "text/plain": [
       "(33, 4, 5)"
      ]
     },
     "execution_count": 14,
     "metadata": {},
     "output_type": "execute_result"
    }
   ],
   "source": [
    "arr = [33,4,5,6,3]\n",
    "num = 42\n",
    "def sum_of_3element_equal_num(arr, num):\n",
    "    for i in range(0,len(arr)):\n",
    "        for j in range(1,len(arr)-1):\n",
    "            for k in range(2,len(arr)-2):\n",
    "                if arr[i]+arr[j]+arr[k] == num:\n",
    "                    return arr[i], arr[j], arr[k]\n",
    "                else:\n",
    "                    return \"not found\"\n",
    "sum_of_3element_equal_num(arr, num)"
   ]
  },
  {
   "cell_type": "markdown",
   "metadata": {},
   "source": [
    "Problem 7 : Given an array of n elements . Find three elements i, j, k in the array such that\n",
    "\n",
    "i * i + j * j = k*k."
   ]
  },
  {
   "cell_type": "code",
   "execution_count": 15,
   "metadata": {},
   "outputs": [
    {
     "data": {
      "text/plain": [
       "'pattern i * i + j * j = k*k not found in arr'"
      ]
     },
     "execution_count": 15,
     "metadata": {},
     "output_type": "execute_result"
    }
   ],
   "source": [
    "arr = [33,4,5,6,3]\n",
    "\n",
    "def pattern_match(arr):\n",
    "    for i in range(0,len(arr)):\n",
    "        for j in range(1,len(arr)-1):\n",
    "            for k in range(2,len(arr)-2):\n",
    "                if arr[i] * arr[i] + arr[j] * arr[j] == arr[k]*arr[k]:\n",
    "                    return arr[i],arr[j],arr[k]\n",
    "                else:\n",
    "                    return \"pattern i * i + j * j = k*k not found in arr\"\n",
    "                \n",
    "pattern_match(arr)\n"
   ]
  },
  {
   "cell_type": "markdown",
   "metadata": {},
   "source": [
    "Problem 8 : An element is a majority if it appears more than n/2 times. Give an algorithm takes an array of n\n",
    "element as argument and identifies a majority (if it exists).\n",
    "\n",
    "\n",
    "\n"
   ]
  },
  {
   "cell_type": "code",
   "execution_count": 17,
   "metadata": {},
   "outputs": [
    {
     "name": "stdout",
     "output_type": "stream",
     "text": [
      "Majority element: 4\n"
     ]
    }
   ],
   "source": [
    "def find_majority_element(nums):\n",
    "    # Initialize the candidate and count\n",
    "    candidate = None\n",
    "    count = 0\n",
    "    \n",
    "    # Find the candidate majority element\n",
    "    for num in nums:\n",
    "        if count == 0:\n",
    "            candidate = num\n",
    "            count = 1\n",
    "        elif num == candidate:\n",
    "            count += 1\n",
    "        else:\n",
    "            count -= 1\n",
    "    \n",
    "    # Verify if the candidate is a majority\n",
    "    count = 0\n",
    "    for num in nums:\n",
    "        if num == candidate:\n",
    "            count += 1\n",
    "    \n",
    "    if count > len(nums) // 2:\n",
    "        return candidate\n",
    "    else:\n",
    "        return None\n",
    "\n",
    "# Example usage:\n",
    "arr = [3, 3, 4, 2, 4, 4, 2, 4, 4]\n",
    "majority_element = find_majority_element(arr)\n",
    "if majority_element:\n",
    "    print(\"Majority element:\", majority_element)\n",
    "else:\n",
    "    print(\"No majority element found\")\n"
   ]
  },
  {
   "cell_type": "markdown",
   "metadata": {},
   "source": [
    "Problem 9 : Given n × n matrix, and in each row all 1’s are followed by 0’s. Find the row with the maximum\n",
    "number of 0’s."
   ]
  },
  {
   "cell_type": "code",
   "execution_count": 27,
   "metadata": {},
   "outputs": [
    {
     "data": {
      "text/plain": [
       "'maximum 0 in row 2'"
      ]
     },
     "execution_count": 27,
     "metadata": {},
     "output_type": "execute_result"
    }
   ],
   "source": [
    "matrix = [\n",
    "    [1,2,3],\n",
    "    [0,0,1],\n",
    "    [0,0,0]\n",
    "]\n",
    "\n",
    "def max_zero_in_rowth(matrix):\n",
    "    count_zero =0\n",
    "    rowth =None\n",
    "    for row in range(len(matrix)):\n",
    "        zeros = matrix[row].count(0)\n",
    "        if count_zero<=zeros:\n",
    "            count_zero = zeros\n",
    "            rowth =row\n",
    "    return f'maximum 0 in row {rowth}'\n",
    "max_zero_in_rowth(matrix)\n",
    "        "
   ]
  },
  {
   "cell_type": "markdown",
   "metadata": {},
   "source": [
    "Problem 10 : Sort an array of 0’s, 1’s and 2’s [or R’s, G’s and B’s]: Given an array A[] consisting of 0’s, 1’s and\n",
    "2’s, give an algorithm for sorting A[].The algorithm should put all 0’s first, then all 1’s and finally all 2’s at the\n",
    "end. Example Input = {0,1,1,0,1,2,1,2,0,0,0,1}, Output = {0,0,0,0,0,1,1,1,1,1,2,2}"
   ]
  },
  {
   "cell_type": "code",
   "execution_count": 33,
   "metadata": {},
   "outputs": [
    {
     "data": {
      "text/plain": [
       "[0, 0, 0, 0, 0, 1, 1, 1, 1, 1, 2, 2]"
      ]
     },
     "execution_count": 33,
     "metadata": {},
     "output_type": "execute_result"
    }
   ],
   "source": [
    "arr = [0,1,1,0,1,2,1,2,0,0,0,1]\n",
    "\n",
    "def sort_element(arr):\n",
    "    \n",
    "    for i in range(0,len(arr)):\n",
    "        for j in range(i+1,len(arr)):\n",
    "            if arr[i]==arr[j]:\n",
    "                continue\n",
    "            if arr[i]>arr[j]:\n",
    "                arr[i], arr[j] = arr[j],arr[i]\n",
    "\n",
    "    return arr\n",
    "sort_element(arr)\n"
   ]
  },
  {
   "cell_type": "code",
   "execution_count": null,
   "metadata": {},
   "outputs": [],
   "source": []
  }
 ],
 "metadata": {
  "kernelspec": {
   "display_name": "envs",
   "language": "python",
   "name": "python3"
  },
  "language_info": {
   "codemirror_mode": {
    "name": "ipython",
    "version": 3
   },
   "file_extension": ".py",
   "mimetype": "text/x-python",
   "name": "python",
   "nbconvert_exporter": "python",
   "pygments_lexer": "ipython3",
   "version": "3.9.13"
  }
 },
 "nbformat": 4,
 "nbformat_minor": 2
}
