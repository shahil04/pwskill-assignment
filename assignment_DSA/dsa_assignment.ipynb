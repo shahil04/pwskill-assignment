{
 "cells": [
  {
   "cell_type": "markdown",
   "metadata": {},
   "source": [
    "Problem 1: Reverse a singly linked list."
   ]
  },
  {
   "cell_type": "code",
   "execution_count": 13,
   "metadata": {},
   "outputs": [
    {
     "name": "stdout",
     "output_type": "stream",
     "text": [
      "Original linked list:\n",
      "0\n",
      "5\n",
      "98\n",
      "1\n",
      "7\n",
      "\n",
      "Reversed linked list:\n",
      "7\n",
      "1\n",
      "98\n",
      "5\n",
      "0\n"
     ]
    }
   ],
   "source": [
    "class Node:\n",
    "    def __init__(self, val) -> None:\n",
    "        self.val = val\n",
    "        self.next = None\n",
    "\n",
    "class SinglyLL:\n",
    "    def __init__(self) -> None:\n",
    "        self.head = None\n",
    "    \n",
    "    def insertElement(self, val):\n",
    "        node = Node(val)\n",
    "        if self.head == None:\n",
    "            self.head = node\n",
    "        else:\n",
    "            temp = self.head\n",
    "            while temp.next != None:\n",
    "                temp = temp.next\n",
    "            temp.next = node\n",
    "    \n",
    "    def traverseLL(self):\n",
    "        if self.head == None:\n",
    "            return\n",
    "        \n",
    "        temp = self.head\n",
    "        while temp != None:\n",
    "            print(temp.val)\n",
    "            temp = temp.next\n",
    "            \n",
    "    def reverseLL(self):\n",
    "        if self.head == None:\n",
    "            return\n",
    "        \n",
    "        prev = None\n",
    "        current = self.head\n",
    "        while current != None:\n",
    "            next_node = current.next\n",
    "            current.next = prev\n",
    "            prev = current\n",
    "            current = next_node\n",
    "        self.head = prev\n",
    "\n",
    "# Example usage:\n",
    "sll = SinglyLL()\n",
    "sll.insertElement(0)\n",
    "sll.insertElement(5)\n",
    "sll.insertElement(98)\n",
    "sll.insertElement(1)\n",
    "sll.insertElement(7)\n",
    "\n",
    "print(\"Original linked list:\")\n",
    "sll.traverseLL()\n",
    "\n",
    "sll.reverseLL()\n",
    "print(\"\\nReversed linked list:\")\n",
    "sll.traverseLL()\n"
   ]
  },
  {
   "cell_type": "markdown",
   "metadata": {},
   "source": [
    "Problem 2: Merge two sorted linked lists into one sorted linked list.\n"
   ]
  },
  {
   "cell_type": "code",
   "execution_count": 1,
   "metadata": {},
   "outputs": [
    {
     "name": "stdout",
     "output_type": "stream",
     "text": [
      "Merged Linked List:\n",
      "1\n",
      "2\n",
      "3\n",
      "4\n",
      "5\n",
      "6\n",
      "7\n"
     ]
    }
   ],
   "source": [
    "class Node:\n",
    "    def __init__(self, val) -> None:\n",
    "        self.val = val\n",
    "        self.next = None\n",
    "    \n",
    "\n",
    "class SinglyLL:\n",
    "    def __init__(self) -> None:\n",
    "        self.head = None\n",
    "\n",
    "    def insertElement(self, val):\n",
    "        node = Node(val)\n",
    "        \n",
    "        if self.head ==None:\n",
    "            self.head = node\n",
    "\n",
    "        else:\n",
    "            current = self.head\n",
    "            while current.next !=None:\n",
    "                current = current.next\n",
    "            current.next = node\n",
    "\n",
    "    def traversalLL(self):\n",
    "        if self.head == None:\n",
    "            return\n",
    "        \n",
    "        else:\n",
    "            current = self.head\n",
    "            while current != None:\n",
    "                print(current.val)\n",
    "                current = current.next\n",
    "\n",
    "    def merge_two_sorted_LL(self, LL1, LL2):\n",
    "        dummy = Node(0)\n",
    "        tail = dummy\n",
    "\n",
    "        current1 = LL1\n",
    "        current2 = LL2\n",
    "\n",
    "        while current1 and current2:\n",
    "            if current1.val < current2.val:\n",
    "                tail.next = current1\n",
    "                current1 = current1.next\n",
    "            else:\n",
    "                tail.next = current2\n",
    "                current2 = current2.next\n",
    "            tail = tail.next\n",
    "\n",
    "        if current1:\n",
    "            tail.next = current1\n",
    "        elif current2:\n",
    "            tail.next = current2\n",
    "\n",
    "        return dummy.next\n",
    "\n",
    "\n",
    "# Creating Linked Lists\n",
    "sll1 = SinglyLL()\n",
    "sll1.insertElement(1)\n",
    "sll1.insertElement(3)\n",
    "sll1.insertElement(5)\n",
    "sll1.insertElement(7)\n",
    "\n",
    "sll2 = SinglyLL()\n",
    "sll2.insertElement(2)\n",
    "sll2.insertElement(4)\n",
    "sll2.insertElement(6)\n",
    "\n",
    "# Merging the two sorted lists\n",
    "merged_list_head = sll1.merge_two_sorted_LL(sll1.head, sll2.head)\n",
    "\n",
    "# Traversing the merged linked list\n",
    "print(\"Merged Linked List:\")\n",
    "sll1.traversalLL()"
   ]
  },
  {
   "cell_type": "code",
   "execution_count": 13,
   "metadata": {},
   "outputs": [
    {
     "ename": "TypeError",
     "evalue": "SinglyLL.deco() missing 1 required positional argument: 'func'",
     "output_type": "error",
     "traceback": [
      "\u001b[1;31m---------------------------------------------------------------------------\u001b[0m",
      "\u001b[1;31mTypeError\u001b[0m                                 Traceback (most recent call last)",
      "Cell \u001b[1;32mIn[13], line 8\u001b[0m\n\u001b[0;32m      5\u001b[0m         \u001b[38;5;28mself\u001b[39m\u001b[38;5;241m.\u001b[39mnext \u001b[38;5;241m=\u001b[39m \u001b[38;5;28;01mNone\u001b[39;00m\n\u001b[0;32m      7\u001b[0m \u001b[38;5;66;03m# Create the Singly Link List\u001b[39;00m\n\u001b[1;32m----> 8\u001b[0m \u001b[38;5;28;01mclass\u001b[39;00m \u001b[38;5;21;01mSinglyLL\u001b[39;00m:\n\u001b[0;32m      9\u001b[0m     \u001b[38;5;28;01mdef\u001b[39;00m \u001b[38;5;21m__init__\u001b[39m(\u001b[38;5;28mself\u001b[39m) \u001b[38;5;241m-\u001b[39m\u001b[38;5;241m>\u001b[39m \u001b[38;5;28;01mNone\u001b[39;00m:\n\u001b[0;32m     10\u001b[0m         \u001b[38;5;28mself\u001b[39m\u001b[38;5;241m.\u001b[39mhead \u001b[38;5;241m=\u001b[39m \u001b[38;5;28;01mNone\u001b[39;00m\n",
      "Cell \u001b[1;32mIn[13], line 37\u001b[0m, in \u001b[0;36mSinglyLL\u001b[1;34m()\u001b[0m\n\u001b[0;32m     35\u001b[0m \u001b[38;5;28;01mdef\u001b[39;00m \u001b[38;5;21minsertAtMiddle\u001b[39m(\u001b[38;5;28mself\u001b[39m,val):\n\u001b[0;32m     36\u001b[0m     \u001b[38;5;28;01mpass\u001b[39;00m\n\u001b[1;32m---> 37\u001b[0m \u001b[38;5;129m@deco\u001b[39m\n\u001b[0;32m     38\u001b[0m \u001b[38;5;28;01mdef\u001b[39;00m \u001b[38;5;21minsertElement\u001b[39m(\u001b[38;5;28mself\u001b[39m, val):\n\u001b[0;32m     39\u001b[0m     node \u001b[38;5;241m=\u001b[39m Node(val)\n\u001b[0;32m     40\u001b[0m     \u001b[38;5;28;01mif\u001b[39;00m \u001b[38;5;28mself\u001b[39m\u001b[38;5;241m.\u001b[39mhead \u001b[38;5;241m==\u001b[39m \u001b[38;5;28;01mNone\u001b[39;00m:\n",
      "\u001b[1;31mTypeError\u001b[0m: SinglyLL.deco() missing 1 required positional argument: 'func'"
     ]
    }
   ],
   "source": [
    "# create Nodes for all question in one place\n",
    "class Node:\n",
    "    def __init__(self, val) -> None:\n",
    "        self.val = val\n",
    "        self.next = None\n",
    "\n",
    "# Create the Singly Link List\n",
    "class SinglyLL:\n",
    "    def __init__(self) -> None:\n",
    "        self.head = None\n",
    "\n",
    "    def deco(self,func):        \n",
    "        def traversal(self):\n",
    "\n",
    "            if self.head ==None:\n",
    "                return []\n",
    "            \n",
    "            else:\n",
    "                current =self.head\n",
    "                while current != None:\n",
    "                    print(current.val)\n",
    "                    current = current.next\n",
    "        return traversal\n",
    "    \n",
    "    def insertAtBegining(self, val):\n",
    "        node = Node(val)\n",
    "\n",
    "        if self.head is None:\n",
    "            self.head =node\n",
    "        else:\n",
    "            temp = self.head\n",
    "            node.next = temp\n",
    "            self.head  =node\n",
    "\n",
    "    def insertAtMiddle(self,val):\n",
    "        pass\n",
    "    @deco\n",
    "    def insertElement(self, val):\n",
    "        node = Node(val)\n",
    "        if self.head == None:\n",
    "            self.head = node\n",
    "\n",
    "        else:\n",
    "            current = self.head\n",
    "            while current.next != None:\n",
    "                current = current.next\n",
    "            current.next = node\n",
    "  \n",
    "   \n",
    "    \n",
    "\n",
    "    def deleteAtBegining(self):\n",
    "        if self.head != None:\n",
    "            # temp = self.head\n",
    "            self.head = self.head.next\n",
    "        \n",
    "    def deleteAtMiddle(self,val):\n",
    "        pass\n",
    "\n",
    "    def deleteAtEnd(self):\n",
    "        if self.head != None:\n",
    "            current = self.head\n",
    "            while current != None:\n",
    "                prev = current\n",
    "                current = current.next\n",
    "            prev.next =None\n",
    "\n",
    "\n",
    "\n",
    "    def deleteNthElement(self, position):\n",
    "        pass\n",
    "\n",
    "\n",
    "\n",
    "# Example usage:\n",
    "sll = SinglyLL()\n",
    "sll.insertElement(0)\n",
    "sll.insertElement(5)\n",
    "sll.insertElement(98)\n",
    "sll.insertElement(1)\n",
    "sll.insertElement(7)\n",
    "\n",
    "print(\"Original linked list:\")\n",
    "# sll.traversal()\n",
    "\n",
    "sll.insertAtBegining(90)\n",
    "sll.insertElement(sll)\n",
    "\n",
    "# sll.traversal()"
   ]
  },
  {
   "cell_type": "code",
   "execution_count": 15,
   "metadata": {},
   "outputs": [
    {
     "name": "stdout",
     "output_type": "stream",
     "text": [
      "Original linked list:\n"
     ]
    },
    {
     "ename": "TypeError",
     "evalue": "SinglyLL.deco() missing 1 required positional argument: 'func'",
     "output_type": "error",
     "traceback": [
      "\u001b[1;31m---------------------------------------------------------------------------\u001b[0m",
      "\u001b[1;31mTypeError\u001b[0m                                 Traceback (most recent call last)",
      "Cell \u001b[1;32mIn[15], line 75\u001b[0m\n\u001b[0;32m     73\u001b[0m \u001b[38;5;28mprint\u001b[39m(\u001b[38;5;124m\"\u001b[39m\u001b[38;5;124mOriginal linked list:\u001b[39m\u001b[38;5;124m\"\u001b[39m)\n\u001b[0;32m     74\u001b[0m \u001b[38;5;66;03m# Call the decorated method to traverse the linked list\u001b[39;00m\n\u001b[1;32m---> 75\u001b[0m sll\u001b[38;5;241m.\u001b[39mdeco()(sll)\n",
      "\u001b[1;31mTypeError\u001b[0m: SinglyLL.deco() missing 1 required positional argument: 'func'"
     ]
    }
   ],
   "source": [
    "# Create Nodes for all questions in one place\n",
    "class Node:\n",
    "    def __init__(self, val) -> None:\n",
    "        self.val = val\n",
    "        self.next = None\n",
    "\n",
    "# Create the Singly Linked List\n",
    "class SinglyLL:\n",
    "    def __init__(self) -> None:\n",
    "        self.head = None\n",
    "\n",
    "    def deco(self, func):\n",
    "        def traversal(self):\n",
    "            if self.head == None:\n",
    "                return []\n",
    "            else:\n",
    "                current = self.head\n",
    "                while current != None:\n",
    "                    print(current.val)\n",
    "                    current = current.next\n",
    "        return traversal\n",
    "\n",
    "    def insertAtBegining(self, val):\n",
    "        node = Node(val)\n",
    "\n",
    "        if self.head is None:\n",
    "            self.head = node\n",
    "        else:\n",
    "            temp = self.head\n",
    "            node.next = temp\n",
    "            self.head = node\n",
    "\n",
    "    def insertAtMiddle(self, val):\n",
    "        pass\n",
    "\n",
    "    def insertElement(self, val):\n",
    "        node = Node(val)\n",
    "        if self.head == None:\n",
    "            self.head = node\n",
    "        else:\n",
    "            current = self.head\n",
    "            while current.next != None:\n",
    "                current = current.next\n",
    "            current.next = node\n",
    "\n",
    "    def deleteAtBegining(self):\n",
    "        if self.head != None:\n",
    "            self.head = self.head.next\n",
    "\n",
    "    def deleteAtMiddle(self, val):\n",
    "        pass\n",
    "\n",
    "    def deleteAtEnd(self):\n",
    "        if self.head != None:\n",
    "            current = self.head\n",
    "            while current != None:\n",
    "                prev = current\n",
    "                current = current.next\n",
    "            prev.next = None\n",
    "\n",
    "    def deleteNthElement(self, position):\n",
    "        pass\n",
    "\n",
    "\n",
    "# Example usage:\n",
    "sll = SinglyLL()\n",
    "sll.insertElement(0)\n",
    "sll.insertElement(5)\n",
    "sll.insertElement(98)\n",
    "sll.insertElement(1)\n",
    "sll.insertElement(7)\n",
    "\n",
    "print(\"Original linked list:\")\n",
    "# Call the decorated method to traverse the linked list\n",
    "sll.deco()(sll)\n"
   ]
  },
  {
   "cell_type": "markdown",
   "metadata": {},
   "source": [
    "Problem 3: Remove the nth node from the end of a linked list."
   ]
  },
  {
   "cell_type": "code",
   "execution_count": 2,
   "metadata": {},
   "outputs": [
    {
     "name": "stdout",
     "output_type": "stream",
     "text": [
      "Original linked list:\n",
      "1 -> 2 -> 3 -> 4 -> 5 -> None\n",
      "\n",
      "Linked list after removing the 2nd node from the end:\n",
      "1 -> 2 -> 4 -> 5 -> None\n"
     ]
    }
   ],
   "source": [
    "class ListNode:\n",
    "    def __init__(self, val=0, next=None):\n",
    "        self.val = val\n",
    "        self.next = next\n",
    "\n",
    "def removeNthFromEnd(head: ListNode, n: int) -> ListNode:\n",
    "    # Create a placeholder node to handle edge cases where the head needs to be removed\n",
    "    placeholder = ListNode(0)\n",
    "    placeholder.next = head\n",
    "    first_pointer = placeholder\n",
    "    second_pointer = placeholder\n",
    "    \n",
    "    # Move the second pointer ahead by n nodes\n",
    "    for _ in range(n + 1):\n",
    "        if second_pointer is None:\n",
    "            raise ValueError(\"Invalid value of n: List length is less than n\")\n",
    "        second_pointer = second_pointer.next\n",
    "        \n",
    "    # Move both pointers simultaneously until the second pointer reaches the end\n",
    "    while second_pointer.next is not None:\n",
    "        first_pointer = first_pointer.next\n",
    "        second_pointer = second_pointer.next\n",
    "        \n",
    "    # Remove the nth node from the end\n",
    "    first_pointer.next = first_pointer.next.next\n",
    "    \n",
    "    return placeholder.next\n",
    "\n",
    "def printLinkedList(head: ListNode) -> None:\n",
    "    current = head\n",
    "    while current:\n",
    "        print(current.val, end=\" -> \")\n",
    "        current = current.next\n",
    "    print(\"None\")\n",
    "\n",
    "# Driver code to test the removeNthFromEnd function\n",
    "if __name__ == \"__main__\":\n",
    "    # Create a linked list: 1 -> 2 -> 3 -> 4 -> 5\n",
    "    head = ListNode(1)\n",
    "    head.next = ListNode(2)\n",
    "    head.next.next = ListNode(3)\n",
    "    head.next.next.next = ListNode(4)\n",
    "    head.next.next.next.next = ListNode(5)\n",
    "\n",
    "    print(\"Original linked list:\")\n",
    "    printLinkedList(head)\n",
    "\n",
    "    # Remove the 2nd node from the end (n = 2)\n",
    "    head = removeNthFromEnd(head, 2)\n",
    "\n",
    "    print(\"\\nLinked list after removing the 2nd node from the end:\")\n",
    "    printLinkedList(head)\n"
   ]
  },
  {
   "cell_type": "markdown",
   "metadata": {},
   "source": [
    "Problem 4: Find the intersection point of two linked lists."
   ]
  },
  {
   "cell_type": "markdown",
   "metadata": {},
   "source": [
    "Problem 5: Remove duplicates from a sorted linked list.\n"
   ]
  },
  {
   "cell_type": "markdown",
   "metadata": {},
   "source": [
    "\n",
    "Problem 6: Add two numbers represented by linked lists (where each node contains a single digit).\n",
    "\n"
   ]
  },
  {
   "cell_type": "markdown",
   "metadata": {},
   "source": [
    "Problem 7: Swap nodes in pairs in a linked list.\n"
   ]
  },
  {
   "cell_type": "markdown",
   "metadata": {},
   "source": [
    "Problem 8: Reverse nodes in a linked list in groups of k."
   ]
  },
  {
   "cell_type": "markdown",
   "metadata": {},
   "source": [
    "Problem 9: Determine if a linked list is a palindrome."
   ]
  },
  {
   "cell_type": "markdown",
   "metadata": {},
   "source": [
    "\n",
    "Problem 10: Rotate a linked list to the right by k places."
   ]
  },
  {
   "cell_type": "code",
   "execution_count": null,
   "metadata": {},
   "outputs": [],
   "source": []
  },
  {
   "cell_type": "markdown",
   "metadata": {},
   "source": [
    "\n",
    "Problem 11: Flatten a multilevel doubly linked list.\n",
    "\n"
   ]
  },
  {
   "cell_type": "code",
   "execution_count": null,
   "metadata": {},
   "outputs": [],
   "source": []
  },
  {
   "cell_type": "markdown",
   "metadata": {},
   "source": [
    "Problem 12: Rearrange a linked list such that all even positioned nodes are placed at the end.\n"
   ]
  },
  {
   "cell_type": "markdown",
   "metadata": {},
   "source": [
    "\n",
    "Problem 13: Given a non-negative number represented as a linked list, add one to it.\n",
    "\n",
    "\n"
   ]
  },
  {
   "cell_type": "markdown",
   "metadata": {},
   "source": [
    "Problem 14: Given a sorted array and a target value, return the index if the target is found. If not, return the\n",
    "index where it would be inserted.\n",
    "\n"
   ]
  },
  {
   "cell_type": "markdown",
   "metadata": {},
   "source": [
    "Problem 15: Find the minimum element in a rotated sorted array.\n"
   ]
  },
  {
   "cell_type": "markdown",
   "metadata": {},
   "source": [
    "Problem 16: Search for a target value in a rotated sorted array.\n",
    "\n",
    "\n"
   ]
  },
  {
   "cell_type": "markdown",
   "metadata": {},
   "source": [
    "Problem 17: Find the peak element in an array. A peak element is greater than its neighbors.\n",
    "\n"
   ]
  },
  {
   "cell_type": "markdown",
   "metadata": {},
   "source": [
    "Problem 18: Given a m x n matrix where each row and column is sorted in ascending order, count the number\n",
    "of negative numbers.\n"
   ]
  },
  {
   "cell_type": "markdown",
   "metadata": {},
   "source": [
    "Problem 19: Given a 2D matrix sorted in ascending order in each row, and the first integer of each row is\n",
    "greater than the last integer of the previous row, determine if a target value is present in the matrix.\n"
   ]
  },
  {
   "cell_type": "markdown",
   "metadata": {},
   "source": [
    "Problem 20: Find Median in Two Sorted Arrays\n",
    "Problem: Given two sorted arrays, find the median of the combined sorted array.\n",
    "\n"
   ]
  },
  {
   "cell_type": "markdown",
   "metadata": {},
   "source": [
    "\n",
    "Problem 21: Given a sorted character array and a target letter, find the smallest letter in the array that is\n",
    "greater than the target.\n"
   ]
  },
  {
   "cell_type": "markdown",
   "metadata": {},
   "source": [
    "Problem 22: Given an array with n objects colored red, white, or blue, sort them in-place so that objects of\n",
    "the same color are adjacent, with the colors in the order red, white, and blue.\n"
   ]
  },
  {
   "cell_type": "markdown",
   "metadata": {},
   "source": [
    "Problem 23: Find the kth largest element in an unsorted array.\n",
    "\n",
    "Input: nums = [3, 2, 1, 5, 6, 4], k = 2\n",
    "\n",
    "Output: 5\n"
   ]
  },
  {
   "cell_type": "code",
   "execution_count": null,
   "metadata": {},
   "outputs": [],
   "source": [
    "def bubble_sort\n",
    "\n",
    "\n"
   ]
  },
  {
   "cell_type": "markdown",
   "metadata": {},
   "source": [
    "Problem 24: Given an unsorted array, reorder it in-place such that nums[0] <= nums[1] >= nums[2] <=\n",
    "\n",
    "Input: nums = [3, 5, 2, 1, 6, 4]\n",
    "\n",
    "Output: [3, 5, 1, 6, 2, 4]\n"
   ]
  },
  {
   "cell_type": "code",
   "execution_count": null,
   "metadata": {},
   "outputs": [],
   "source": [
    "nums = [3, 5, 2, 1, 6, 4]\n",
    "\n",
    "nums[0] <= nums[1] >= nums[2] "
   ]
  },
  {
   "cell_type": "markdown",
   "metadata": {},
   "source": [
    "Problem 25: Given an array of integers, calculate the sum of all its elements.\n",
    "\n",
    "Input: [1, 2, 3, 4, 5]\n",
    "\n",
    "Output: 15\n"
   ]
  },
  {
   "cell_type": "code",
   "execution_count": 17,
   "metadata": {},
   "outputs": [
    {
     "data": {
      "text/plain": [
       "'total of [3, 5, 7, 23, 45] is 83'"
      ]
     },
     "execution_count": 17,
     "metadata": {},
     "output_type": "execute_result"
    }
   ],
   "source": [
    "from typing import List\n",
    "def sum_of_all(array: List):\n",
    "    sums= 0\n",
    "    for i in array:\n",
    "        sums += i\n",
    "    return f\"total of {array} is {sums}\"\n",
    "sum_of_all([3,5,7,23,45])"
   ]
  },
  {
   "cell_type": "markdown",
   "metadata": {},
   "source": [
    "Problem 27: Implement linear search to find the index of a target element in an array.\n",
    "\n",
    "Input: [5, 3, 8, 2, 7, 4], target = 8\n",
    "\n",
    "Output: 2\n"
   ]
  },
  {
   "cell_type": "code",
   "execution_count": 13,
   "metadata": {},
   "outputs": [
    {
     "data": {
      "text/plain": [
       "'24 Not in list'"
      ]
     },
     "execution_count": 13,
     "metadata": {},
     "output_type": "execute_result"
    }
   ],
   "source": [
    "from typing import List\n",
    "def linear_search(arr: List,target: int ):\n",
    "    for index in range(len(arr)):\n",
    "        if arr[index] == target:\n",
    "            return index\n",
    "    \n",
    "    return f\"{target} Not in list\"\n",
    "\n",
    "linear_search([3,4,5,6,7,8,9,0,1], 24)"
   ]
  },
  {
   "cell_type": "markdown",
   "metadata": {},
   "source": [
    "Problem 28 Calculate the factorial of a given number."
   ]
  },
  {
   "cell_type": "code",
   "execution_count": 10,
   "metadata": {},
   "outputs": [
    {
     "data": {
      "text/plain": [
       "120"
      ]
     },
     "execution_count": 10,
     "metadata": {},
     "output_type": "execute_result"
    }
   ],
   "source": [
    "def factorial(num):\n",
    "    if num==1:\n",
    "        return 1\n",
    "    else:\n",
    "        return num * factorial(num-1)\n",
    "factorial(5)"
   ]
  },
  {
   "cell_type": "markdown",
   "metadata": {},
   "source": [
    "\n",
    "Problem 29: Check if a given number is a prime number.\n",
    "\n",
    "Input: 7\n",
    "\n",
    "Output: True\n"
   ]
  },
  {
   "cell_type": "code",
   "execution_count": 8,
   "metadata": {},
   "outputs": [
    {
     "name": "stdout",
     "output_type": "stream",
     "text": [
      "1\n",
      "2\n"
     ]
    },
    {
     "data": {
      "text/plain": [
       "False"
      ]
     },
     "execution_count": 8,
     "metadata": {},
     "output_type": "execute_result"
    }
   ],
   "source": [
    "def prime_check(num):\n",
    "    count =0\n",
    "    for i in range(1,num//2):\n",
    "        if num % i==0:\n",
    "            print(i)\n",
    "            count +=1\n",
    "    if count>=2:\n",
    "        return False\n",
    "    return True\n",
    "\n",
    "prime_check(22)\n",
    "\n"
   ]
  },
  {
   "cell_type": "markdown",
   "metadata": {},
   "source": [
    "Problem 30: Generate the Fibonacci series up to a given number n.\n",
    "\n",
    "Input: 8\n",
    "\n",
    "Output: [0, 1, 1, 2, 3, 5, 8, 13]\n"
   ]
  },
  {
   "cell_type": "code",
   "execution_count": null,
   "metadata": {},
   "outputs": [
    {
     "ename": "",
     "evalue": "",
     "output_type": "error",
     "traceback": [
      "\u001b[1;31mThe Kernel crashed while executing code in the current cell or a previous cell. \n",
      "\u001b[1;31mPlease review the code in the cell(s) to identify a possible cause of the failure. \n",
      "\u001b[1;31mClick <a href='https://aka.ms/vscodeJupyterKernelCrash'>here</a> for more info. \n",
      "\u001b[1;31mView Jupyter <a href='command:jupyter.viewOutput'>log</a> for further details."
     ]
    }
   ],
   "source": [
    "def fibonacci(n):\n",
    "    if n==2:\n",
    "        return 0\n",
    "    else:\n",
    "        return fibonacci(n-1) + fibonacci(n-2)\n",
    "\n",
    "fibonacci(8)"
   ]
  },
  {
   "cell_type": "markdown",
   "metadata": {},
   "source": [
    "\n",
    "Problem 31: Calculate the power of a number using recursion.\n",
    "\n",
    "Input: base = 3, exponent = 4\n",
    "\n",
    "Output: 81 (as 3^4 = 3 * 3 * 3 * 3 = 81)\n"
   ]
  },
  {
   "cell_type": "code",
   "execution_count": 15,
   "metadata": {},
   "outputs": [
    {
     "data": {
      "text/plain": [
       "81"
      ]
     },
     "execution_count": 15,
     "metadata": {},
     "output_type": "execute_result"
    }
   ],
   "source": [
    "def power_of_num(base, exponent):\n",
    "    if exponent ==1:\n",
    "        return base\n",
    "    else:\n",
    "        return base * power_of_num(base,exponent=exponent-1)\n",
    "\n",
    "power_of_num(3,4)"
   ]
  },
  {
   "cell_type": "markdown",
   "metadata": {},
   "source": [
    "\n",
    "Problem 32: Reverse a given string.\n",
    "\n",
    "Input: \"hello\"\n",
    "\n",
    "Output: \"olleh\"\n"
   ]
  },
  {
   "cell_type": "code",
   "execution_count": 12,
   "metadata": {},
   "outputs": [
    {
     "name": "stdout",
     "output_type": "stream",
     "text": [
      "olleh\n"
     ]
    }
   ],
   "source": [
    "string = \"hello\"\n",
    "new=\"\"\n",
    "for i in range(len(string)-1,-1, -1):\n",
    "    print(string[i],end=\"\")\n"
   ]
  },
  {
   "cell_type": "markdown",
   "metadata": {},
   "source": []
  }
 ],
 "metadata": {
  "kernelspec": {
   "display_name": "base",
   "language": "python",
   "name": "python3"
  },
  "language_info": {
   "codemirror_mode": {
    "name": "ipython",
    "version": 3
   },
   "file_extension": ".py",
   "mimetype": "text/x-python",
   "name": "python",
   "nbconvert_exporter": "python",
   "pygments_lexer": "ipython3",
   "version": "3.11.5"
  }
 },
 "nbformat": 4,
 "nbformat_minor": 2
}
