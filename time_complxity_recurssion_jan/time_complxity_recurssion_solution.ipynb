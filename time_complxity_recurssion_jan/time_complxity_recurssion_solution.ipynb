{
 "cells": [
  {
   "cell_type": "code",
   "execution_count": 1,
   "metadata": {},
   "outputs": [
    {
     "name": "stdout",
     "output_type": "stream",
     "text": [
      "Time Complexity is O(nlog n)\n"
     ]
    }
   ],
   "source": [
    "# Problem 1 :\n",
    "\n",
    "\n",
    "def quicksort(arr):\n",
    "\n",
    "    if len(arr) <= 1:\n",
    "        return arr\n",
    "    \n",
    "    pivot = arr[len(arr) // 2]\n",
    "    left = [x for x in arr if x < pivot]\n",
    "    middle = [x for x in arr if x == pivot]\n",
    "    right = [x for x in arr if x > pivot]\n",
    "    return quicksort(left) + middle + quicksort(right)\n",
    "\n",
    "print(f\"Time Complexity is O(nlog n)\")\n"
   ]
  },
  {
   "cell_type": "code",
   "execution_count": 2,
   "metadata": {},
   "outputs": [
    {
     "name": "stdout",
     "output_type": "stream",
     "text": [
      "Time Complexity is O(n^2)\n"
     ]
    }
   ],
   "source": [
    "# Problem 2 :\n",
    "\n",
    "\n",
    "def nested_loop_example(matrix):\n",
    "\n",
    "    rows, cols = len(matrix), len(matrix[0])\n",
    "\n",
    "    total = 0\n",
    "\n",
    "    for i in range(rows):\n",
    "        for j in range(cols):\n",
    "            total += matrix[i][j]\n",
    "\n",
    "    return total\n",
    "\n",
    "print(f\"Time Complexity is O(n^2)\")\n",
    "\n"
   ]
  },
  {
   "cell_type": "code",
   "execution_count": 3,
   "metadata": {},
   "outputs": [
    {
     "name": "stdout",
     "output_type": "stream",
     "text": [
      "Time Complexity is O(n)\n"
     ]
    }
   ],
   "source": [
    "#Problem 3 :\n",
    "\n",
    "\n",
    "def example_function(arr):\n",
    "\n",
    "    result = 0\n",
    "\n",
    "    for element in arr:\n",
    "\n",
    "        result += element\n",
    "\n",
    "    return result\n",
    "\n",
    "print(f\"Time Complexity is O(n)\")\n"
   ]
  },
  {
   "cell_type": "code",
   "execution_count": 4,
   "metadata": {},
   "outputs": [
    {
     "name": "stdout",
     "output_type": "stream",
     "text": [
      "Time Complexity is O(n^2)\n"
     ]
    }
   ],
   "source": [
    "# Problem 4 :\n",
    "\n",
    "\n",
    "def longest_increasing_subsequence(nums):\n",
    "\n",
    "    n = len(nums)\n",
    "\n",
    "    lis = [1] * n\n",
    "\n",
    "    for i in range(1, n):\n",
    "        for j in range(0, i):\n",
    "             if nums[i] > nums[j] and lis[i] < lis[j] + 1:\n",
    "                lis[i] = lis[j] + 1\n",
    "\n",
    "    return max(lis)\n",
    "\n",
    "\n",
    "\n",
    "print(f\"Time Complexity is O(n^2)\")"
   ]
  },
  {
   "cell_type": "code",
   "execution_count": 5,
   "metadata": {},
   "outputs": [
    {
     "name": "stdout",
     "output_type": "stream",
     "text": [
      "Time Complexity is O(n^2)\n"
     ]
    }
   ],
   "source": [
    " #Problem 5 :\n",
    "\n",
    "def mysterious_function(arr):\n",
    "\n",
    "    n = len(arr)\n",
    "\n",
    "    result = 0\n",
    "\n",
    "    for i in range(n):\n",
    "        for j in range(i, n):\n",
    "            result += arr[i] * arr[j]\n",
    "\n",
    "    return result\n",
    "print(f\"Time Complexity is O(n^2)\")"
   ]
  },
  {
   "cell_type": "markdown",
   "metadata": {},
   "source": [
    "Problem 6 : Sum of Digits\n",
    "\n",
    "\n",
    "Write a recursive function to calculate the sum of digits of a given positive integer.\n",
    "\n",
    "\n",
    "sum_of_digits(123) -> 6\n"
   ]
  },
  {
   "cell_type": "code",
   "execution_count": 6,
   "metadata": {},
   "outputs": [
    {
     "data": {
      "text/plain": [
       "12"
      ]
     },
     "execution_count": 6,
     "metadata": {},
     "output_type": "execute_result"
    }
   ],
   "source": [
    "123//10"
   ]
  },
  {
   "cell_type": "code",
   "execution_count": 9,
   "metadata": {},
   "outputs": [
    {
     "name": "stdout",
     "output_type": "stream",
     "text": [
      "8\n"
     ]
    }
   ],
   "source": [
    "def sum_of_digits(nums):\n",
    "    if nums < 10:\n",
    "        return nums\n",
    "    else:\n",
    "        return nums % 10 + sum_of_digits(nums // 10)\n",
    "\n",
    "result = sum_of_digits(1232)\n",
    "print(result)\n"
   ]
  },
  {
   "cell_type": "markdown",
   "metadata": {},
   "source": [
    "Problem 7: Fibonacci Series\n",
    "\n",
    "\n",
    "Write a recursive function to generate the first n numbers of the Fibonacci series.\n",
    "\n",
    "\n",
    "fibonacci_series(6) -> [0, 1, 1, 2, 3, 5]"
   ]
  },
  {
   "cell_type": "code",
   "execution_count": 1,
   "metadata": {},
   "outputs": [
    {
     "name": "stdout",
     "output_type": "stream",
     "text": [
      "[0, 1, 1, 2, 3, 5]\n",
      "time complexity : O(2^n\n"
     ]
    }
   ],
   "source": [
    "def fibonacci_series(n):\n",
    "    def fibonacci_recursive(i):\n",
    "        if i == 0:\n",
    "            return 0\n",
    "        elif i == 1:\n",
    "            return 1\n",
    "        else:\n",
    "            return fibonacci_recursive(i - 1) + fibonacci_recursive(i - 2)\n",
    "    \n",
    "    series = []\n",
    "    for i in range(n):\n",
    "        series.append(fibonacci_recursive(i))\n",
    "    \n",
    "    return series\n",
    "\n",
    "# Example usage:\n",
    "print(fibonacci_series(6))  # Output: [0, 1, 1, 2, 3, 5]\n",
    "print(\"time complexity : O(2^n\" )"
   ]
  },
  {
   "cell_type": "markdown",
   "metadata": {},
   "source": [
    "Problem 8 : Subset Sum\n",
    "\n",
    "\n",
    "Given a set of positive integers and a target sum, write a recursive function to determine if there exists a subset\n",
    "of the integers that adds up to the target sum.\n",
    "\n",
    "\n",
    "subset_sum([3, 34, 4, 12, 5, 2], 9) -> True"
   ]
  },
  {
   "cell_type": "code",
   "execution_count": 2,
   "metadata": {},
   "outputs": [
    {
     "name": "stdout",
     "output_type": "stream",
     "text": [
      "True\n",
      "Time Complexity: O(2^n)\n"
     ]
    }
   ],
   "source": [
    "def subset_sum(arr, target):\n",
    "    def is_subset_sum(arr, n, target):\n",
    "        # Base cases\n",
    "        if target == 0:\n",
    "            return True\n",
    "        if n == 0 and target != 0:\n",
    "            return False\n",
    "        \n",
    "        # If the last element is greater than the target sum, it cannot be included\n",
    "        if arr[n-1] > target:\n",
    "            return is_subset_sum(arr, n-1, target)\n",
    "        \n",
    "        # Check if the target sum can be obtained by:\n",
    "        # (1) including the last element\n",
    "        # (2) excluding the last element\n",
    "        return is_subset_sum(arr, n-1, target) or is_subset_sum(arr, n-1, target - arr[n-1])\n",
    "    \n",
    "    return is_subset_sum(arr, len(arr), target)\n",
    "\n",
    "# Example usage:\n",
    "print(subset_sum([3, 34, 4, 12, 5, 2], 9))  # Output: True\n",
    "print(\"Time Complexity: O(2^n)\")"
   ]
  },
  {
   "cell_type": "markdown",
   "metadata": {},
   "source": [
    "Problem 9: Word Break\n",
    "\n",
    "\n",
    "Given a non-empty string and a dictionary of words, write a recursive function to determine if the string can be\n",
    "segmented into a space-separated sequence of dictionary words.\n",
    "\n",
    "\n",
    "word_break(\"leetcode\", [\"leet\", \"code\"]) -> True"
   ]
  },
  {
   "cell_type": "code",
   "execution_count": 3,
   "metadata": {},
   "outputs": [
    {
     "name": "stdout",
     "output_type": "stream",
     "text": [
      "True\n",
      "Time Complexity: O(n^2)\n"
     ]
    }
   ],
   "source": [
    "def word_break(s, word_dict):\n",
    "    word_set = set(word_dict)  # Convert list to set for faster lookup\n",
    "    memo = {}\n",
    "\n",
    "    def can_break(s):\n",
    "        if s in memo:\n",
    "            return memo[s]\n",
    "        if not s:\n",
    "            return True\n",
    "        \n",
    "        for i in range(1, len(s) + 1):\n",
    "            prefix = s[:i]\n",
    "            if prefix in word_set and can_break(s[i:]):\n",
    "                memo[s] = True\n",
    "                return True\n",
    "        \n",
    "        memo[s] = False\n",
    "        return False\n",
    "    \n",
    "    return can_break(s)\n",
    "\n",
    "# Example usage:\n",
    "print(word_break(\"leetcode\", [\"leet\", \"code\"]))  # Output: True\n",
    "print(\"Time Complexity: O(n^2)\")"
   ]
  },
  {
   "cell_type": "markdown",
   "metadata": {},
   "source": [
    "Problem 10 : N-Queens\n",
    "\n",
    "\n",
    "Implement a recursive function to solve the N-Queens problem, where you have to place N queens on an N×N\n",
    "chessboard in such a way that no two queens threaten each other.\n",
    "\n",
    "\n",
    "n_queens(4)\n",
    "\n",
    "\n",
    "[\n",
    "\n",
    "[\".Q..\",\n",
    "\n",
    "\"...Q\",\n",
    "\n",
    "\"Q...\",\n",
    "\n",
    "\"..Q.\"],\n",
    "\n",
    "[\"..Q.\",\n",
    "\n",
    "\"Q...\",\n",
    "\n",
    "\"...Q\",\n",
    "\n",
    "\".Q..\"]\n",
    "\n",
    "]"
   ]
  },
  {
   "cell_type": "code",
   "execution_count": null,
   "metadata": {},
   "outputs": [],
   "source": [
    "def n_queens(n):\n",
    "    def is_safe(board, row, col):\n",
    "        # Check column for another queen\n",
    "        for i in range(row):\n",
    "            if board[i][col] == 'Q':\n",
    "                return False\n",
    "        \n",
    "        # Check upper left diagonal for another queen\n",
    "        for i, j in zip(range(row, -1, -1), range(col, -1, -1)):\n",
    "            if board[i][j] == 'Q':\n",
    "                return False\n",
    "        \n",
    "        # Check upper right diagonal for another queen\n",
    "        for i, j in zip(range(row, -1, -1), range(col, n)):\n",
    "            if board[i][j] == 'Q':\n",
    "                return False\n",
    "        \n",
    "        return True\n",
    "\n",
    "    def solve(board, row):\n",
    "        if row == n:\n",
    "            result.append([\"\".join(row) for row in board])\n",
    "            return\n",
    "        \n",
    "        for col in range(n):\n",
    "            if is_safe(board, row, col):\n",
    "                board[row][col] = 'Q'\n",
    "                solve(board, row + 1)\n",
    "                board[row][col] = '.'  # Backtrack\n",
    "    \n",
    "    result = []\n",
    "    board = [[\".\" for _ in range(n)] for _ in range(n)]\n",
    "    solve(board, 0)\n",
    "    return result\n",
    "\n",
    "# Example usage:\n",
    "print(n_queens(4))\n",
    "print(\"Time Complexity : \")"
   ]
  },
  {
   "cell_type": "markdown",
   "metadata": {},
   "source": []
  }
 ],
 "metadata": {
  "kernelspec": {
   "display_name": "base",
   "language": "python",
   "name": "python3"
  },
  "language_info": {
   "codemirror_mode": {
    "name": "ipython",
    "version": 3
   },
   "file_extension": ".py",
   "mimetype": "text/x-python",
   "name": "python",
   "nbconvert_exporter": "python",
   "pygments_lexer": "ipython3",
   "version": "3.11.5"
  }
 },
 "nbformat": 4,
 "nbformat_minor": 2
}
