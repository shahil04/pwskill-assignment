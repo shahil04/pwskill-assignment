{
 "cells": [
  {
   "cell_type": "markdown",
   "metadata": {},
   "source": [
    "# String Based Practice Questions\n",
    "## TOPIC: String Based Assignment Problem\n"
   ]
  },
  {
   "cell_type": "code",
   "execution_count": null,
   "metadata": {},
   "outputs": [],
   "source": [
    "# 1. Write a program to reverse a string.\n",
    "\n"
   ]
  },
  {
   "cell_type": "code",
   "execution_count": 1,
   "metadata": {},
   "outputs": [],
   "source": [
    "# 2. Check if a string is a palindrome.\n"
   ]
  },
  {
   "cell_type": "code",
   "execution_count": null,
   "metadata": {},
   "outputs": [],
   "source": [
    "# 3. Convert a string to uppercase."
   ]
  },
  {
   "cell_type": "code",
   "execution_count": 2,
   "metadata": {},
   "outputs": [],
   "source": [
    "\n",
    "# 4. Convert a string to lowercase.\n"
   ]
  },
  {
   "cell_type": "code",
   "execution_count": null,
   "metadata": {},
   "outputs": [],
   "source": [
    "# 5. Count the number of vowels in a string.\n"
   ]
  },
  {
   "cell_type": "code",
   "execution_count": null,
   "metadata": {},
   "outputs": [],
   "source": [
    "# 6. Count the number of consonants in a string.\n"
   ]
  },
  {
   "cell_type": "code",
   "execution_count": null,
   "metadata": {},
   "outputs": [],
   "source": [
    "# 7. Remove all whitespaces from a string.\n"
   ]
  },
  {
   "cell_type": "code",
   "execution_count": null,
   "metadata": {},
   "outputs": [],
   "source": [
    "# 8. Find the length of a string without using the `len()` function.\n"
   ]
  },
  {
   "cell_type": "code",
   "execution_count": null,
   "metadata": {},
   "outputs": [],
   "source": [
    "# 9. Check if a string contains a specific word.\n"
   ]
  },
  {
   "cell_type": "code",
   "execution_count": null,
   "metadata": {},
   "outputs": [],
   "source": [
    "# 10. Replace a word in a string with another word.\n"
   ]
  },
  {
   "cell_type": "code",
   "execution_count": null,
   "metadata": {},
   "outputs": [],
   "source": [
    "# 11. Count the occurrences of a word in a string.\n"
   ]
  },
  {
   "cell_type": "code",
   "execution_count": null,
   "metadata": {},
   "outputs": [],
   "source": [
    "# 12. Find the first occurrence of a word in a string.\n"
   ]
  },
  {
   "cell_type": "code",
   "execution_count": null,
   "metadata": {},
   "outputs": [],
   "source": [
    "# 13. Find the last occurrence of a word in a string.\n"
   ]
  },
  {
   "cell_type": "code",
   "execution_count": null,
   "metadata": {},
   "outputs": [],
   "source": [
    "# 14. Split a string into a list of words.\n"
   ]
  },
  {
   "cell_type": "code",
   "execution_count": null,
   "metadata": {},
   "outputs": [],
   "source": [
    "# 15. Join a list of words into a string.\n"
   ]
  },
  {
   "cell_type": "code",
   "execution_count": null,
   "metadata": {},
   "outputs": [],
   "source": [
    "    # 16. Convert a string where words are separated by spaces to one where words\n",
    "# are separated by underscores.\n"
   ]
  },
  {
   "cell_type": "code",
   "execution_count": null,
   "metadata": {},
   "outputs": [],
   "source": [
    "# 17. Check if a string starts with a specific word or phrase.\n"
   ]
  },
  {
   "cell_type": "code",
   "execution_count": null,
   "metadata": {},
   "outputs": [],
   "source": [
    "# 18. Check if a string ends with a specific word or phrase.\n"
   ]
  },
  {
   "cell_type": "code",
   "execution_count": null,
   "metadata": {},
   "outputs": [],
   "source": [
    "# 19. Convert a string to title case (e.g., \"hello world\" to \"Hello World\").\n"
   ]
  },
  {
   "cell_type": "code",
   "execution_count": null,
   "metadata": {},
   "outputs": [],
   "source": [
    "# 20. Find the longest word in a string.\n"
   ]
  },
  {
   "cell_type": "code",
   "execution_count": null,
   "metadata": {},
   "outputs": [],
   "source": [
    "# 21. Find the shortest word in a string.\n"
   ]
  },
  {
   "cell_type": "code",
   "execution_count": null,
   "metadata": {},
   "outputs": [],
   "source": [
    "# 22. Reverse the order of words in a string.\n"
   ]
  },
  {
   "cell_type": "code",
   "execution_count": null,
   "metadata": {},
   "outputs": [],
   "source": [
    "# 23. Check if a string is alphanumeric.\n"
   ]
  },
  {
   "cell_type": "code",
   "execution_count": null,
   "metadata": {},
   "outputs": [],
   "source": [
    "# 24. Extract all digits from a string.\n"
   ]
  },
  {
   "cell_type": "code",
   "execution_count": null,
   "metadata": {},
   "outputs": [],
   "source": [
    "# 25. Extract all alphabets from a string.\n"
   ]
  },
  {
   "cell_type": "code",
   "execution_count": null,
   "metadata": {},
   "outputs": [],
   "source": [
    "# 26. Count the number of uppercase letters in a string.\n"
   ]
  },
  {
   "cell_type": "code",
   "execution_count": null,
   "metadata": {},
   "outputs": [],
   "source": [
    "# 27. Count the number of lowercase letters in a string.\n"
   ]
  },
  {
   "cell_type": "code",
   "execution_count": null,
   "metadata": {},
   "outputs": [],
   "source": [
    "# 28. Swap the case of each character in a string.\n"
   ]
  },
  {
   "cell_type": "code",
   "execution_count": null,
   "metadata": {},
   "outputs": [],
   "source": [
    "# 29. Remove a specific word from a string.\n"
   ]
  },
  {
   "cell_type": "code",
   "execution_count": null,
   "metadata": {},
   "outputs": [],
   "source": [
    "# 30. Check if a string is a valid email address."
   ]
  },
  {
   "cell_type": "code",
   "execution_count": null,
   "metadata": {},
   "outputs": [],
   "source": [
    "# 31. Extract the username from an email address string.\n"
   ]
  },
  {
   "cell_type": "code",
   "execution_count": null,
   "metadata": {},
   "outputs": [],
   "source": [
    "# 32. Extract the domain name from an email address string.\n"
   ]
  },
  {
   "cell_type": "code",
   "execution_count": null,
   "metadata": {},
   "outputs": [],
   "source": [
    "# 33. Replace multiple spaces in a string with a single space.\n"
   ]
  },
  {
   "cell_type": "code",
   "execution_count": null,
   "metadata": {},
   "outputs": [],
   "source": [
    "# 34. Check if a string is a valid URL.\n"
   ]
  },
  {
   "cell_type": "code",
   "execution_count": null,
   "metadata": {},
   "outputs": [],
   "source": [
    "# 35. Extract the protocol (http or https) from a URL string.\n"
   ]
  },
  {
   "cell_type": "code",
   "execution_count": null,
   "metadata": {},
   "outputs": [],
   "source": [
    "# 36. Find the frequency of each character in a string.\n"
   ]
  },
  {
   "cell_type": "code",
   "execution_count": null,
   "metadata": {},
   "outputs": [],
   "source": [
    "# 37. Remove all punctuation from a string.\n"
   ]
  },
  {
   "cell_type": "code",
   "execution_count": null,
   "metadata": {},
   "outputs": [],
   "source": [
    "# 38. Check if a string contains only digits.\n"
   ]
  },
  {
   "cell_type": "code",
   "execution_count": null,
   "metadata": {},
   "outputs": [],
   "source": [
    "# 39. Check if a string contains only alphabets.\n"
   ]
  },
  {
   "cell_type": "code",
   "execution_count": null,
   "metadata": {},
   "outputs": [],
   "source": [
    "# 40. Convert a string to a list of characters.\n"
   ]
  },
  {
   "cell_type": "code",
   "execution_count": null,
   "metadata": {},
   "outputs": [],
   "source": [
    "# 41. Check if two strings are anagrams.\n"
   ]
  },
  {
   "cell_type": "code",
   "execution_count": null,
   "metadata": {},
   "outputs": [],
   "source": [
    "# 42. Encode a string using a Caesar cipher.\n"
   ]
  },
  {
   "cell_type": "code",
   "execution_count": null,
   "metadata": {},
   "outputs": [],
   "source": [
    "# 43. Decode a Caesar cipher encoded string.\n"
   ]
  },
  {
   "cell_type": "code",
   "execution_count": null,
   "metadata": {},
   "outputs": [],
   "source": [
    "# 44. Find the most frequent word in a string.\n"
   ]
  },
  {
   "cell_type": "code",
   "execution_count": null,
   "metadata": {},
   "outputs": [],
   "source": [
    "# 45. Find all unique words in a string.\n"
   ]
  },
  {
   "cell_type": "code",
   "execution_count": null,
   "metadata": {},
   "outputs": [],
   "source": [
    "# 46. Count the number of syllables in a string."
   ]
  },
  {
   "cell_type": "code",
   "execution_count": null,
   "metadata": {},
   "outputs": [],
   "source": [
    "# 47. Check if a string contains any special characters.\n",
    "\n"
   ]
  },
  {
   "cell_type": "code",
   "execution_count": null,
   "metadata": {},
   "outputs": [],
   "source": [
    "# 48. Remove the nth word from a string.\n"
   ]
  },
  {
   "cell_type": "code",
   "execution_count": null,
   "metadata": {},
   "outputs": [],
   "source": [
    "# 49. Insert a word at the nth position in a string.\n"
   ]
  },
  {
   "cell_type": "code",
   "execution_count": null,
   "metadata": {},
   "outputs": [],
   "source": [
    "# 50. Convert a CSV string to a list of lists.\n"
   ]
  },
  {
   "cell_type": "markdown",
   "metadata": {},
   "source": []
  },
  {
   "cell_type": "markdown",
   "metadata": {},
   "source": [
    "### List Based Practice Problem :"
   ]
  },
  {
   "cell_type": "code",
   "execution_count": null,
   "metadata": {},
   "outputs": [],
   "source": [
    "# 1. Create a list with integers from 1 to 10.\n",
    "# 2. Find the length of a list without using the `len()` function.\n",
    "# 3. Append an element to the end of a list.\n",
    "# 4. Insert an element at a specific index in a list.\n",
    "# 5. Remove an element from a list by its value.\n",
    "# 6. Remove an element from a list by its index.\n",
    "# 7. Check if an element exists in a list.\n",
    "# 8. Find the index of the first occurrence of an element in a list.\n",
    "# 9. Count the occurrences of an element in a list.\n",
    "# 10. Reverse the order of elements in a list."
   ]
  },
  {
   "cell_type": "code",
   "execution_count": null,
   "metadata": {},
   "outputs": [],
   "source": [
    "# 11. Sort a list in ascending order.\n",
    "# 12. Sort a list in descending order.\n",
    "# 13. Create a list of even numbers from 1 to 20.\n",
    "# 14. Create a list of odd numbers from 1 to 20.\n",
    "# 15. Find the sum of all elements in a list.\n",
    "# 16. Find the maximum value in a list.\n",
    "# 17. Find the minimum value in a list.\n",
    "# 18. Create a list of squares of numbers from 1 to 10.\n",
    "# 19. Create a list of random numbers.\n",
    "# 20. Remove duplicates from a list.\n",
    "# 21. Find the common elements between two lists.\n",
    "# 22. Find the difference between two lists.\n",
    "# 23. Merge two lists.\n",
    "# 24. Multiply all elements in a list by 2.\n",
    "# 25. Filter out all even numbers from a list."
   ]
  },
  {
   "cell_type": "code",
   "execution_count": null,
   "metadata": {},
   "outputs": [],
   "source": [
    "# 26. Convert a list of strings to a list of integers.\n",
    "# 27. Convert a list of integers to a list of strings.\n",
    "# 28. Flatten a nested list.\n",
    "# 29. Create a list of the first 10 Fibonacci numbers.\n",
    "# 30. Check if a list is sorted.\n",
    "# 31. Rotate a list to the left by `n` positions.\n",
    "# 32. Rotate a list to the right by `n` positions.\n",
    "# 33. Create a list of prime numbers up to 50.\n",
    "# 34. Split a list into chunks of size `n`.\n",
    "# 35. Find the second largest number in a list.\n",
    "# 36. Replace every element in a list with its square.\n",
    "# 37. Convert a list to a dictionary where list elements become keys and their\n",
    "# indices become values.\n",
    "# 38. Shuffle the elements of a list randomly.\n",
    "# 39. Create a list of the first 10 factorial numbers."
   ]
  },
  {
   "cell_type": "code",
   "execution_count": null,
   "metadata": {},
   "outputs": [],
   "source": [
    "# 40. Check if two lists have at least one element in common.\n",
    "# 41. Remove all elements from a list.\n",
    "# 42. Replace negative numbers in a list with 0.\n",
    "# 43. Convert a string into a list of words.\n",
    "# 44. Convert a list of words into a string.\n",
    "# 45. Create a list of the first `n` powers of 2.\n",
    "# 46. Find the longest string in a list of strings.\n",
    "# 47. Find the shortest string in a list of strings.\n",
    "# 48. Create a list of the first `n` triangular numbers.\n",
    "# 49. Check if a list contains another list as a subsequence.\n",
    "# 50. Swap two elements in a list by their indices."
   ]
  },
  {
   "cell_type": "markdown",
   "metadata": {},
   "source": []
  },
  {
   "cell_type": "markdown",
   "metadata": {},
   "source": [
    "# Tuple Based Practice Problem :"
   ]
  },
  {
   "cell_type": "markdown",
   "metadata": {},
   "source": [
    "1. Create a tuple with integers from 1 to 5.\n",
    "2. Access the third element of a tuple.\n",
    "3. Find the length of a tuple without using the `len()` function.\n",
    "4. Count the occurrences of an element in a tuple.\n",
    "5. Find the index of the first occurrence of an element in a tuple.\n",
    "6. Check if an element exists in a tuple.\n",
    "7. Convert a tuple to a list.\n",
    "8. Convert a list to a tuple.\n",
    "9. Unpack the elements of a tuple into variables.\n",
    "10. Create a tuple of even numbers from 1 to 10.\n",
    "11. Create a tuple of odd numbers from 1 to 10.\n",
    "12. Concatenate two tuples.\n",
    "13. Repeat a tuple three times.\n",
    "14. Check if a tuple is empty.\n",
    "15. Create a nested tuple.\n",
    "16. Access the first element of a nested tuple.\n",
    "17. Create a tuple with a single element.\n",
    "18. Compare two tuples.\n",
    "19. Delete a tuple.\n",
    "20. Slice a tuple."
   ]
  },
  {
   "cell_type": "markdown",
   "metadata": {},
   "source": [
    "21. Find the maximum value in a tuple.\n",
    "22. Find the minimum value in a tuple.\n",
    "23. Convert a string to a tuple of characters.\n",
    "24. Convert a tuple of characters to a string.\n",
    "25. Create a tuple from multiple data types.\n",
    "26. Check if two tuples are identical.\n",
    "27. Sort the elements of a tuple.\n",
    "28. Convert a tuple of integers to a tuple of strings.\n",
    "29. Convert a tuple of strings to a tuple of integers.\n",
    "30. Merge two tuples.\n",
    "31. Flatten a nested tuple.\n",
    "32. Create a tuple of the first 5 prime numbers.\n",
    "33. Check if a tuple is a palindrome.\n",
    "34. Create a tuple of squares of numbers from 1 to 5.\n",
    "35. Filter out all even numbers from a tuple.\n",
    "36. Multiply all elements in a tuple by 2."
   ]
  },
  {
   "cell_type": "markdown",
   "metadata": {},
   "source": [
    "37. Create a tuple of random numbers.\n",
    "38. Check if a tuple is sorted.\n",
    "39. Rotate a tuple to the left by `n` positions.\n",
    "40. Rotate a tuple to the right by `n` positions.\n",
    "41. Create a tuple of the first 5 Fibonacci numbers.\n",
    "42. Create a tuple from user input.\n",
    "43. Swap two elements in a tuple.\n",
    "44. Reverse the elements of a tuple.\n",
    "45. Create a tuple of the first `n` powers of 2.\n",
    "46. Find the longest string in a tuple of strings.\n",
    "47. Find the shortest string in a tuple of strings.\n",
    "48. Create a tuple of the first `n` triangular numbers.\n",
    "49. Check if a tuple contains another tuple as a subsequence.\n",
    "50. Create a tuple of alternating 1s and 0s of length `n`."
   ]
  },
  {
   "cell_type": "markdown",
   "metadata": {},
   "source": []
  },
  {
   "cell_type": "markdown",
   "metadata": {},
   "source": [
    "## Set Based Practice Problem :"
   ]
  },
  {
   "cell_type": "markdown",
   "metadata": {},
   "source": [
    "1. Create a set with integers from 1 to 5.\n",
    "2. Add an element to a set.\n",
    "3. Remove an element from a set.\n",
    "4. Check if an element exists in a set.\n",
    "5. Find the length of a set without using the `len()` function.\n",
    "6. Clear all elements from a set.\n",
    "7. Create a set of even numbers from 1 to 10.\n",
    "8. Create a set of odd numbers from 1 to 10.\n",
    "9. Find the union of two sets.\n",
    "10. Find the intersection of two sets.\n",
    "11. Find the difference between two sets.\n",
    "12. Check if a set is a subset of another set.\n",
    "13. Check if a set is a superset of another set.\n",
    "14. Create a set from a list.\n",
    "15. Convert a set to a list."
   ]
  },
  {
   "cell_type": "markdown",
   "metadata": {},
   "source": [
    "16. Remove a random element from a set.\n",
    "17. Pop an element from a set.\n",
    "18. Check if two sets have no elements in common.\n",
    "19. Find the symmetric difference between two sets.\n",
    "20. Update a set with elements from another set.\n",
    "21. Create a set of the first 5 prime numbers.\n",
    "22. Check if two sets are identical.\n",
    "23. Create a frozen set.\n",
    "24. Check if a set is disjoint with another set.\n",
    "25. Create a set of squares of numbers from 1 to 5.\n",
    "26. Filter out all even numbers from a set.\n",
    "27. Multiply all elements in a set by 2.\n",
    "28. Create a set of random numbers.\n",
    "29. Check if a set is empty.\n",
    "30. Create a nested set (hint: use frozenset).\n",
    "31. Remove an element from a set using the discard method."
   ]
  },
  {
   "cell_type": "markdown",
   "metadata": {},
   "source": [
    "32. Compare two sets.\n",
    "33. Create a set from a string.\n",
    "34. Convert a set of strings to a set of integers.\n",
    "35. Convert a set of integers to a set of strings.\n",
    "36. Create a set from a tuple.\n",
    "37. Convert a set to a tuple.\n",
    "38. Find the maximum value in a set.\n",
    "39. Find the minimum value in a set.\n",
    "40. Create a set from user input.\n",
    "41. Check if the intersection of two sets is empty.\n",
    "42. Create a set of the first 5 Fibonacci numbers.\n",
    "43. Remove duplicates from a list using sets.\n",
    "44. Check if two sets have the same elements, regardless of their count.\n",
    "45. Create a set of the first `n` powers of 2.\n",
    "46. Find the common elements between a set and a list.\n",
    "47. Create a set of the first `n` triangular numbers."
   ]
  },
  {
   "cell_type": "markdown",
   "metadata": {},
   "source": [
    "48. Check if a set contains another set as a subset.\n",
    "49. Create a set of alternating 1s and 0s of length `n`.\n",
    "50. Merge multiple sets into one."
   ]
  },
  {
   "cell_type": "markdown",
   "metadata": {},
   "source": []
  }
 ],
 "metadata": {
  "kernelspec": {
   "display_name": "Python 3",
   "language": "python",
   "name": "python3"
  },
  "language_info": {
   "codemirror_mode": {
    "name": "ipython",
    "version": 3
   },
   "file_extension": ".py",
   "mimetype": "text/x-python",
   "name": "python",
   "nbconvert_exporter": "python",
   "pygments_lexer": "ipython3",
   "version": "3.9.13"
  },
  "orig_nbformat": 4
 },
 "nbformat": 4,
 "nbformat_minor": 2
}
