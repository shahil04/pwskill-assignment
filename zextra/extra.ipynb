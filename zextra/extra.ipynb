{
 "cells": [
  {
   "cell_type": "code",
   "execution_count": null,
   "metadata": {},
   "outputs": [],
   "source": [
    "# https://leetcode.com/problems/maximum-profit-in-job-scheduling/\n",
    "import heapq\n",
    "startTime = [1,2,3,3]\n",
    "endTime = [3,4,5,6]\n",
    "profit = [50,10,40,70]\n",
    "\n",
    "# startTime = [1,2,3,4,6]\n",
    "# endTime = [3,5,10,6,9]\n",
    "# profit = [20,20,100,70,60]\n",
    "\n",
    "arr=[]\n",
    "\n",
    "for s,e,p in zip(startTime,endTime,profit):\n",
    "    arr.append([s,e,p])\n",
    "# print(arr)\n",
    "arr.sort()\n",
    "# print(arr)\n",
    "\n",
    "heap=[]\n",
    "max_profit = 0\n",
    "for start ,end,profit in arr:\n",
    "    while heap and heap[0][0] <=start:\n",
    "        max_profit = max(max_profit , heapq.heappop(heap)[1])\n",
    "    heapq.heappush(heap , (end , profit+max_profit))\n",
    "while heap:\n",
    "    max_profit = max(max_profit, heapq.heappop(heap)[1])\n",
    "\n",
    "print(max_profit)"
   ]
  },
  {
   "cell_type": "code",
   "execution_count": null,
   "metadata": {},
   "outputs": [],
   "source": [
    "heap=[]\n",
    "print(heap)"
   ]
  },
  {
   "cell_type": "code",
   "execution_count": null,
   "metadata": {},
   "outputs": [],
   "source": []
  },
  {
   "cell_type": "code",
   "execution_count": null,
   "metadata": {},
   "outputs": [],
   "source": []
  },
  {
   "cell_type": "code",
   "execution_count": null,
   "metadata": {},
   "outputs": [],
   "source": [
    "from typing import List\n",
    "class Solution:\n",
    "    def findMatrix(self, nums: List[int]) -> List[List[int]]:\n",
    "        mlist:List=[]\n",
    "        length=len(nums)\n",
    "        while (length>0):\n",
    "            l1=[]\n",
    "            for   i in range(len(nums)):\n",
    "                if i not in l1:\n",
    "                    l1.append(nums[i])\n",
    "                    l1.remove(nums[i])\n",
    "            mlist.append(l1)\n",
    "            length=len(nums)\n",
    "\n",
    "        return mlist\n",
    "s=Solution()\n",
    "s.findMatrix(nums = [1,3,4,1,2,3,1])   "
   ]
  },
  {
   "cell_type": "code",
   "execution_count": null,
   "metadata": {},
   "outputs": [],
   "source": [
    "nums = [1,3,4,1,2,3,1]\n",
    "\n",
    "if 30 in nums:\n",
    "    print(nums[0])"
   ]
  },
  {
   "cell_type": "code",
   "execution_count": null,
   "metadata": {},
   "outputs": [],
   "source": [
    "nums = [1,1,1]\n",
    "\n",
    "mlist:List=[]\n",
    "length=len(nums)\n",
    "print(length)\n",
    "\n",
    "while (length>0):\n",
    "    l1=[]\n",
    "    print(f\"1st in while {length}\")\n",
    "    for i in range(length):\n",
    "        print(f\"i ={i}\")\n",
    "        print(f\"final list {nums}\")\n",
    "        i=i-len(l1)\n",
    "        print(f\"after len(li) sub {i}\")\n",
    "        if nums[i] not in l1:\n",
    "            l1.append(nums[i])\n",
    "            nums.remove(nums[i])\n",
    "            print(f\"li {l1}\")\n",
    "            print(f\"after remove length ={len(nums)}\")\n",
    "            print(\"end if==================\")\n",
    "    print(\"end for \")\n",
    "    mlist.append(l1)\n",
    "    length=len(nums)\n",
    "    print(mlist)\n"
   ]
  },
  {
   "cell_type": "code",
   "execution_count": null,
   "metadata": {},
   "outputs": [],
   "source": [
    "def recursive_function(n):\n",
    "    # Base case: when n is small enough, return a constant\n",
    "    if n <= 1:\n",
    "        return 1  # Adjust this base case as needed\n",
    "\n",
    "    # Recursive case: apply the recurrence relation\n",
    "    return 2 * recursive_function(n // 2) + n\n",
    "\n",
    "# Example usage:\n",
    "result = recursive_function(4)  # Replace 8 with your desired value of n\n",
    "print(result)\n"
   ]
  },
  {
   "cell_type": "code",
   "execution_count": null,
   "metadata": {},
   "outputs": [],
   "source": [
    "from typing import List\n",
    "def numberOfBeams(bank: List[str]) -> int:\n",
    "    leasers=[]\n",
    "    result=0\n",
    "    j=0\n",
    "    for br in bank:\n",
    "        leasers.append(br.count('1'))\n",
    "\n",
    "    for i in range(0 ,len(leasers)-1):\n",
    "        if leasers[i]==0:\n",
    "            if i==0:\n",
    "                j=0\n",
    "            else:\n",
    "                j=leasers[i-1]\n",
    "                result += leasers[i+1]*j\n",
    "        else:\n",
    "            result += leasers[i]*leasers[i+1]\n",
    "\n",
    "\n",
    "        print(leasers,result)\n",
    "numberOfBeams(bank = [\"0\",\"1\"])"
   ]
  },
  {
   "cell_type": "code",
   "execution_count": null,
   "metadata": {},
   "outputs": [],
   "source": [
    "# while  y < len(list1):\n",
    "#     if list1[x] != 0 and list1[y] != 0:\n",
    "#         sum1=list1[x] * list1[y]\n",
    "#         final=sum1+final\n",
    "#         x = y\n",
    "#         y +=1\n",
    "#     elif list1[x] == 0:\n",
    "#         x +=1\n",
    "#         y +=1\n",
    "#     else:\n",
    "#         y +=1\n",
    "# print(final)\n",
    "x=0\n",
    "# y=1\n",
    "# sum1=0\n",
    "# final=0"
   ]
  },
  {
   "cell_type": "code",
   "execution_count": null,
   "metadata": {},
   "outputs": [],
   "source": [
    "from typing import List\n",
    "def numberOfBeams(bank: List[str]) -> int:\n",
    "    leasers=[]\n",
    "    result=0\n",
    "    for br in bank:\n",
    "        if br.count('1') !=0:\n",
    "            leasers.append(br.count('1'))\n",
    "    print(leasers)\n",
    "    if len(leasers)<=1:\n",
    "        result =0\n",
    "        return result \n",
    "    else:\n",
    "        for i in range(0 ,len(leasers)-1):\n",
    "            result+= leasers[i]*leasers[i+1]\n",
    "    return result      \n",
    "numberOfBeams(bank = [\"011001\",\"000000\",\"010100\",\"001000\"])"
   ]
  },
  {
   "cell_type": "code",
   "execution_count": null,
   "metadata": {},
   "outputs": [],
   "source": [
    "nums = [2,3,3,2,2,4,2,3,4]\n",
    "def minOperations( nums) -> int:\n",
    "    uniquness :dict ={}\n",
    "    operation =0\n",
    "    for num in nums:\n",
    "        if num in uniquness:\n",
    "            uniquness[num] +=1\n",
    "        else:\n",
    "            uniquness[num]=1\n",
    "    for val in uniquness.values():\n",
    "        if val==1:\n",
    "            return -1\n",
    "        else:\n",
    "            operation +=(val+2)//3\n",
    "    \n",
    "    return operation\n",
    "\n",
    "\n",
    "    print(uniquness)\n",
    "minOperations(nums)\n",
    "\n",
    "     "
   ]
  },
  {
   "cell_type": "code",
   "execution_count": null,
   "metadata": {},
   "outputs": [],
   "source": [
    "dir={1:4,2:4,3:7}\n",
    "for d in dir:\n",
    "    print(d)\n"
   ]
  },
  {
   "cell_type": "code",
   "execution_count": 8,
   "metadata": {},
   "outputs": [],
   "source": [
    "import numpy as np\n",
    "dt =np.dtype([('name','S10'),('height','f8')])"
   ]
  },
  {
   "cell_type": "code",
   "execution_count": 5,
   "metadata": {},
   "outputs": [
    {
     "data": {
      "text/plain": [
       "dtype([('name', 'S10'), ('height', '<f8')])"
      ]
     },
     "execution_count": 5,
     "metadata": {},
     "output_type": "execute_result"
    }
   ],
   "source": [
    "dt"
   ]
  },
  {
   "cell_type": "code",
   "execution_count": 11,
   "metadata": {},
   "outputs": [],
   "source": [
    "data =np.array([('sha',45.4),('rahish',123)],dtype=dt)"
   ]
  },
  {
   "cell_type": "code",
   "execution_count": 12,
   "metadata": {},
   "outputs": [
    {
     "data": {
      "text/plain": [
       "array([(b'sha',  45.4), (b'rahish', 123. )],\n",
       "      dtype=[('name', 'S10'), ('height', '<f8')])"
      ]
     },
     "execution_count": 12,
     "metadata": {},
     "output_type": "execute_result"
    }
   ],
   "source": [
    "data"
   ]
  },
  {
   "cell_type": "markdown",
   "metadata": {},
   "source": [
    "# 938. Range Sum of BST\n",
    "\n",
    "1. linklist travesrse\n",
    "2. tree create and travese\n",
    "3. create bst tree and traverse\n",
    "4. extra --> recursion ,backtracking ,or hash table\n"
   ]
  },
  {
   "cell_type": "code",
   "execution_count": 9,
   "metadata": {},
   "outputs": [
    {
     "name": "stdout",
     "output_type": "stream",
     "text": [
      "Mon\n",
      "Tue\n",
      "Wed\n"
     ]
    }
   ],
   "source": [
    "class Node:\n",
    "   def __init__(self, dataval=None):\n",
    "      self.dataval = dataval\n",
    "      self.nextval = None\n",
    "\n",
    "class SLinkedList:\n",
    "   def __init__(self):\n",
    "      self.headval = None\n",
    "\n",
    "   def listprint(self):\n",
    "      printval = self.headval\n",
    "      while printval is not None:\n",
    "         print (printval.dataval)\n",
    "         printval = printval.nextval\n",
    "\n",
    "list = SLinkedList()\n",
    "list.headval = Node(\"Mon\")\n",
    "e2 = Node(\"Tue\")\n",
    "e3 = Node(\"Wed\")\n",
    "\n",
    "# Link first Node to second node\n",
    "list.headval.nextval = e2\n",
    "\n",
    "# Link second Node to third node\n",
    "e2.nextval = e3\n",
    "\n",
    "list.listprint()"
   ]
  },
  {
   "cell_type": "code",
   "execution_count": 22,
   "metadata": {},
   "outputs": [
    {
     "name": "stdout",
     "output_type": "stream",
     "text": [
      "4\n",
      "5\n",
      "8\n",
      "6\n",
      "4\n",
      "5\n",
      "8\n",
      "6\n",
      "15\n"
     ]
    }
   ],
   "source": [
    "# create node class and Simple Linklist\n",
    "class Node:\n",
    "    def __init__(self, data =None ):\n",
    "        self.data =data\n",
    "        self.next =None\n",
    "\n",
    "class LinkList:\n",
    "    def __init__(self):\n",
    "        self.head =None\n",
    "        \n",
    "    def printlist(self):\n",
    "        print_data = self.head\n",
    "        while print_data is not None:\n",
    "            print(print_data.data)\n",
    "            print_data =print_data.next\n",
    "\n",
    "    def insertEnd(self,data):\n",
    "        newNode =Node(data)\n",
    "        if self.head is None:\n",
    "            self.head =newNode\n",
    "            return\n",
    "        temp =self.head\n",
    "        while(temp.next):\n",
    "            temp =temp.next\n",
    "        temp.next=newNode\n",
    "\n",
    "\n",
    "\n",
    "ll= LinkList()\n",
    "ll.head =Node(4)\n",
    "l2=Node(5)\n",
    "l3 = Node(8)\n",
    "l4 = Node(6)\n",
    "\n",
    "ll.head.next =l2\n",
    "l2.next =l3\n",
    "l3.next =l4\n",
    "\n",
    "ll.printlist()\n",
    "# l5=Node(23)\n",
    "ll.insertEnd(15)\n",
    "ll.printlist()"
   ]
  },
  {
   "cell_type": "code",
   "execution_count": 27,
   "metadata": {},
   "outputs": [
    {
     "name": "stdout",
     "output_type": "stream",
     "text": [
      "9\n",
      "inorder\n",
      " None\n"
     ]
    }
   ],
   "source": [
    "#binary Tree travers\n",
    "class Node:\n",
    "    def __init__(self,key):\n",
    "        self.leftChild =None\n",
    "        self.rightChild= None\n",
    "        self.key =key\n",
    "\n",
    "def inorderTraversal(root):\n",
    "    if root:\n",
    "        inorderTraversal(root.leftChild)\n",
    "        print(root.key)\n",
    "        inorderTraversal(root.rightChild)\n",
    "\n",
    "def preOrderTraversal(root):\n",
    "    if root :\n",
    "        print(root.key)\n",
    "        preOrderTraversal(root.leftChild)\n",
    "        preOrderTraversal(root.rightChild)\n",
    "\n",
    "def postOrder(root):\n",
    "    if root:\n",
    "        postOrder(root.leftChild)\n",
    "        postOrder(root.rightChild)\n",
    "        print(root.key)\n",
    "\n",
    "def insetValInBST(root , data):\n",
    "    newNode =Node(data)\n",
    "    if root is None:\n",
    "        return newNode\n",
    "    else:\n",
    "        if root.key < data:\n",
    "            root.rightChild = insetValInBST(root.rightChild, data)\n",
    "        else:\n",
    "            root.leftChild =insetValInBST(root.leftChild ,data)\n",
    "\n",
    "\n",
    "def createBST(nums):\n",
    "    root =None\n",
    "    for num in nums:\n",
    "        root =insetValInBST(root, num)\n",
    "    return root\n",
    "\n",
    "def completeBST(nums):\n",
    "    root =None\n",
    "    for num in nums:\n",
    "        newnode = Node(num)\n",
    "        if root is None:\n",
    "            root =newnode\n",
    "        else:\n",
    "            if root.key<num:\n",
    "\n",
    "\n",
    "\n",
    "numbers = [5, 3, 8, 2, 4, 7, 9]\n",
    "bst =createBST(numbers)\n",
    "print(f\"inorder\\n {inorderTraversal(bst)}\")\n"
   ]
  },
  {
   "cell_type": "code",
   "execution_count": null,
   "metadata": {},
   "outputs": [],
   "source": [
    "# https://leetcode.com/problems/range-sum-of-bst/description/?envType=daily-question&envId=2024-01-08\n",
    "[10, 5, 15, 3, 7, null, 18]\n",
    "\n",
    "class Solution:\n",
    "    def rangeSumBST(self, root: Optional[TreeNode], low: int, high: int) -> int:\n",
    "        if not root : return 0\n",
    "\n",
    "        if root.val > high:\n",
    "            return self.rangeSumBST(root.left,low,high)\n",
    "        if root.val < low:\n",
    "            return self.rangeSumBST(root.right,low,high)\n",
    "        return (\n",
    "                root.val +\n",
    "                self.rangeSumBST(root.right,low,high) +\n",
    "                self.rangeSumBST(root.left,low,high))"
   ]
  },
  {
   "cell_type": "code",
   "execution_count": null,
   "metadata": {},
   "outputs": [],
   "source": [
    "# 872. Leaf-Similar Trees\n",
    "# dfs Code\n",
    "root1 = [3,5,1,6,2,9,8,null,null,7,4]\n",
    "root2 = [3,5,1,6,7,4,2,null,null,null,null,null,null,9,8]\n",
    "\n",
    " \n",
    "\n",
    "\n",
    "\n",
    "\n"
   ]
  },
  {
   "cell_type": "code",
   "execution_count": 1,
   "metadata": {},
   "outputs": [],
   "source": [
    "# 2225. Find Players With Zero or One Losses\n",
    "matches = [[1,3],[2,3],[3,6],[5,6],[5,7],[4,5],[4,8],[4,9],[10,4],[10,9]]\n",
    "Output: [[1,2,10],[4,5,7,8]]"
   ]
  },
  {
   "cell_type": "code",
   "execution_count": 53,
   "metadata": {},
   "outputs": [
    {
     "name": "stdout",
     "output_type": "stream",
     "text": [
      "6\n"
     ]
    },
    {
     "data": {
      "text/plain": [
       "[[1, 2, 10], [4, 5, 7, 8]]"
      ]
     },
     "execution_count": 53,
     "metadata": {},
     "output_type": "execute_result"
    }
   ],
   "source": [
    "\n",
    "def findWinners(matches):\n",
    "    result1=[]\n",
    "    result2=[]\n",
    "    zero =[]\n",
    "    one =[]\n",
    "    c={}\n",
    "    for i in range(len(matches)):\n",
    "        zero.append(matches[i][0])\n",
    "        one.append(matches[i][1])\n",
    "    zero= list(set(zero))\n",
    "    print(len(zero))\n",
    "    for i in range(0,len(zero)):\n",
    "        if zero[i] not in one:\n",
    "            result1.append(zero[i])\n",
    "\n",
    "    for  i in range(len(one)):\n",
    "        if one[i] not in c.keys():\n",
    "            c[one[i]]=1\n",
    "        else:\n",
    "            c[one[i]]=c.get(one[i])+1\n",
    "    for d in c.items():\n",
    "        if d[1]==1:\n",
    "            result2.append(d[0])\n",
    "            \n",
    "    result2.sort()\n",
    "    return [result1,result2]\n",
    "    print(result1)\n",
    "    print(c)\n",
    "    print(zero)\n",
    "    print(one)\n",
    "    print(result2)\n",
    "    \n",
    "        \n",
    "findWinners(matches)"
   ]
  },
  {
   "cell_type": "code",
   "execution_count": 40,
   "metadata": {},
   "outputs": [
    {
     "ename": "NameError",
     "evalue": "name 'Count' is not defined",
     "output_type": "error",
     "traceback": [
      "\u001b[1;31m---------------------------------------------------------------------------\u001b[0m",
      "\u001b[1;31mNameError\u001b[0m                                 Traceback (most recent call last)",
      "Cell \u001b[1;32mIn[40], line 1\u001b[0m\n\u001b[1;32m----> 1\u001b[0m Count(\u001b[38;5;241m3\u001b[39m) \u001b[38;5;129;01min\u001b[39;00m [\u001b[38;5;241m3\u001b[39m,\u001b[38;5;241m5\u001b[39m,\u001b[38;5;241m6\u001b[39m,\u001b[38;5;241m7\u001b[39m,\u001b[38;5;241m1\u001b[39m,\u001b[38;5;241m9\u001b[39m]\n",
      "\u001b[1;31mNameError\u001b[0m: name 'Count' is not defined"
     ]
    }
   ],
   "source": [
    " in [3,5,6,7,1,9]"
   ]
  },
  {
   "cell_type": "code",
   "execution_count": null,
   "metadata": {},
   "outputs": [],
   "source": []
  }
 ],
 "metadata": {
  "kernelspec": {
   "display_name": "base",
   "language": "python",
   "name": "python3"
  },
  "language_info": {
   "codemirror_mode": {
    "name": "ipython",
    "version": 3
   },
   "file_extension": ".py",
   "mimetype": "text/x-python",
   "name": "python",
   "nbconvert_exporter": "python",
   "pygments_lexer": "ipython3",
   "version": "3.11.5"
  }
 },
 "nbformat": 4,
 "nbformat_minor": 2
}
