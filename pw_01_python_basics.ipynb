{
 "cells": [
  {
   "cell_type": "markdown",
   "id": "399b7981",
   "metadata": {},
   "source": [
    "# Assignment\n",
    "### TOPIC: Python Basics Variable\n",
    "1. Declare two variables, `x` and `y`, and assign them integer values. Swap the\n",
    "values of these variables without using any temporary variable.\n",
    "2. Create a program that calculates the area of a rectangle. Take the length and\n",
    "width as inputs from the user and store them in variables. Calculate and\n",
    "display the area.\n",
    "3. Write a Python program that converts temperatures from Celsius to\n",
    "Fahrenheit. Take the temperature in Celsius as input, store it in a variable,\n",
    "convert it to Fahrenheit, and display the result."
   ]
  },
  {
   "cell_type": "markdown",
   "id": "cbc7046e",
   "metadata": {},
   "source": [
    "### TOPIC: String Based Questions\n",
    "1. Write a Python program that takes a string as input and prints the length of\n",
    "the string.\n",
    "2. Create a program that takes a sentence from the user and counts the number\n",
    "of vowels (a, e, i, o, u) in the string.\n",
    "3. Given a string, reverse the order of characters using string slicing and print\n",
    "the reversed string.\n",
    "4. Write a program that takes a string as input and checks if it is a palindrome\n",
    "(reads the same forwards and backwards).\n",
    "5. Create a program that takes a string as input and removes all the spaces from\n",
    "it. Print the modified string without spaces."
   ]
  },
  {
   "cell_type": "markdown",
   "id": "5074ac10",
   "metadata": {},
   "source": [
    "### Submission Guidelines:\n",
    "\n",
    "1. Answer all the questions in a single Jupyter Notebook file (.ipynb).\n",
    "2. Include necessary code, comments, and explanations to support your answers and implementation.\n",
    "3. Ensure the notebook runs without errors and is well-organized.\n",
    "4. Create a GitHub repository to host your assignment files.\n",
    "5. Rename the Jupyter Notebook file using the format \"date_month_topic.ipynb\"\n",
    "\n",
    "6. Place the Jupyter Notebook file in the repository.\n",
    "7. Commit and push any additional files or resources required to run your code (if applicable) to the repository.\n",
    "8. Ensure the repository is publicly accessible.\n",
    "9. Submit the link to your GitHub repository as the assignment submission."
   ]
  },
  {
   "cell_type": "code",
   "execution_count": null,
   "id": "fc04dbd4",
   "metadata": {},
   "outputs": [],
   "source": []
  }
 ],
 "metadata": {
  "kernelspec": {
   "display_name": "Python 3 (ipykernel)",
   "language": "python",
   "name": "python3"
  },
  "language_info": {
   "codemirror_mode": {
    "name": "ipython",
    "version": 3
   },
   "file_extension": ".py",
   "mimetype": "text/x-python",
   "name": "python",
   "nbconvert_exporter": "python",
   "pygments_lexer": "ipython3",
   "version": "3.9.12"
  }
 },
 "nbformat": 4,
 "nbformat_minor": 5
}
