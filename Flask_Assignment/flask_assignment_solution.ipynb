{
 "cells": [
  {
   "cell_type": "markdown",
   "metadata": {},
   "source": [
    "# Python flask Assignment Solution\n",
    " ### Basic Assignment Solution (1 to 5) in --> basicflask.py"
   ]
  },
  {
   "cell_type": "markdown",
   "metadata": {},
   "source": []
  },
  {
   "cell_type": "code",
   "execution_count": 1,
   "metadata": {},
   "outputs": [],
   "source": [
    "from flask import Flask\n",
    "from flask import render_template\n",
    "from markupsafe import escape\n",
    "from flask import request\n",
    "\n",
    "app =Flask(__name__)"
   ]
  },
  {
   "cell_type": "code",
   "execution_count": 2,
   "metadata": {},
   "outputs": [
    {
     "name": "stdout",
     "output_type": "stream",
     "text": [
      " * Serving Flask app '__main__'\n",
      " * Debug mode: off\n"
     ]
    },
    {
     "name": "stderr",
     "output_type": "stream",
     "text": [
      "WARNING: This is a development server. Do not use it in a production deployment. Use a production WSGI server instead.\n",
      " * Running on http://127.0.0.1:5000\n",
      "Press CTRL+C to quit\n"
     ]
    }
   ],
   "source": [
    "# Q1. Create a Flask app that displays \"Hello, World!\" on the homepage. \n",
    "\n",
    "@app.route(\"/\")\n",
    "def hello_world():\n",
    "    return \"<p>Hello, World!</p>\"\n",
    "\n",
    "if '__main__'==__name__:\n",
    "    app.run(debug=False)"
   ]
  },
  {
   "cell_type": "markdown",
   "metadata": {},
   "source": [
    "# 6. Build a Flask app that allows users to upload files and display them on the website.   \n",
    "# 7. Integrate a SQLite database with Flask to perform CRUD operations on a list of items. \n",
    "# 8. Implement user authentication and registration in a Flask app using Flask-Login. \n",
    "# 9. Create a RESTful API using Flask to perform CRUD operations on resources like books or movies. \n",
    "# 10. Design a Flask app with proper error handling for 404 and 500 errors"
   ]
  },
  {
   "cell_type": "code",
   "execution_count": 5,
   "metadata": {},
   "outputs": [
    {
     "name": "stdout",
     "output_type": "stream",
     "text": [
      "\n"
     ]
    }
   ],
   "source": [
    "import requests\n",
    "from bs4 import BeautifulSoup\n",
    "import mysql.connector\n",
    "import time\n",
    "\n",
    "url='https://tcvvip5.com/#/home/AllLotteryGames/WinTrx?id=4'\n",
    " \n",
    "response =requests.get(url)\n",
    "soup = BeautifulSoup(response.content, 'html.parser')\n",
    "print(soup)\n",
    "# # MySQL database configuration\n",
    "# db_config = {\n",
    "#     'host': 'your_mysql_host',\n",
    "#     'user': 'your_mysql_user',\n",
    "#     'password': 'your_mysql_password',\n",
    "#     'database': 'your_mysql_database'\n",
    "# }\n",
    "\n",
    "# # Website authentication credentials (if required)\n",
    "# auth_data = {\n",
    "#     'username': 'your_username',\n",
    "#     'password': 'your_password'\n",
    "# }\n",
    "\n",
    "# # Function to authenticate with the website\n",
    "# def authenticate(session):\n",
    "#     # Implement authentication logic here\n",
    "#     # Use session.post() or other methods to perform login\n",
    "\n",
    "# # Function to retrieve and store data\n",
    "# def retrieve_and_store_data():\n",
    "#     # Create a persistent session\n",
    "#     with requests.Session() as session:\n",
    "#         # Authenticate with the website (if required)\n",
    "#         authenticate(session)\n",
    "\n",
    "#         # Make a request to the website\n",
    "#         response = session.get('https://example.com')\n",
    "\n",
    "#         # Parse HTML using BeautifulSoup\n",
    "#         soup = BeautifulSoup(response.text, 'html.parser')\n",
    "\n",
    "#         # Extract relevant information from the soup\n",
    "#         data_to_store = soup.find('div', {'class': 'example-class'}).text\n",
    "\n",
    "#         # Connect to the MySQL database\n",
    "#         connection = mysql.connector.connect(**db_config)\n",
    "#         cursor = connection.cursor()\n",
    "\n",
    "#         # Insert data into the database\n",
    "#         insert_query = \"INSERT INTO your_table_name (column1, column2) VALUES (%s, %s)\"\n",
    "#         cursor.execute(insert_query, (data_to_store, 'additional_data'))\n",
    "\n",
    "#         # Commit the changes and close the connection\n",
    "#         connection.commit()\n",
    "#         cursor.close()\n",
    "#         connection.close()\n",
    "\n",
    "# # Run the script in a loop to retrieve and store data every 5 minutes\n",
    "# while True:\n",
    "#     retrieve_and_store_data()\n",
    "#     time.sleep(300)  # Sleep for 5 minutes\n"
   ]
  },
  {
   "cell_type": "code",
   "execution_count": null,
   "metadata": {},
   "outputs": [],
   "source": []
  }
 ],
 "metadata": {
  "kernelspec": {
   "display_name": "base",
   "language": "python",
   "name": "python3"
  },
  "language_info": {
   "codemirror_mode": {
    "name": "ipython",
    "version": 3
   },
   "file_extension": ".py",
   "mimetype": "text/x-python",
   "name": "python",
   "nbconvert_exporter": "python",
   "pygments_lexer": "ipython3",
   "version": "3.9.18"
  }
 },
 "nbformat": 4,
 "nbformat_minor": 2
}
